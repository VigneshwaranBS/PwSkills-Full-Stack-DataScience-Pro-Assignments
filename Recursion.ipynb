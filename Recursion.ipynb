{
 "cells": [
  {
   "cell_type": "code",
   "execution_count": 3,
   "id": "9276875c-8e61-4a8d-a89e-ff2e70faf028",
   "metadata": {},
   "outputs": [
    {
     "name": "stdout",
     "output_type": "stream",
     "text": [
      "Move disk 1 from A to C\n",
      "Move disk 2 from A to B\n",
      "Move disk 1 from C to B\n",
      "Move disk 3 from A to C\n",
      "Move disk 1 from B to A\n",
      "Move disk 2 from B to C\n",
      "Move disk 1 from A to C\n"
     ]
    }
   ],
   "source": [
    "def tower_of_hanoi(n, source, auxiliary, destination):\n",
    "    if n == 1:\n",
    "        print(\"Move disk 1 from\", source, \"to\", destination)\n",
    "        return\n",
    "    tower_of_hanoi(n - 1, source, destination, auxiliary)\n",
    "    print(\"Move disk\", n, \"from\", source, \"to\", destination)\n",
    "    tower_of_hanoi(n - 1, auxiliary, source, destination)\n",
    "\n",
    "if __name__ == \"__main__\":\n",
    "    n = 3\n",
    "    tower_of_hanoi(n, 'A', 'B', 'C')\n"
   ]
  },
  {
   "cell_type": "code",
   "execution_count": 5,
   "id": "bc894346-f937-4f23-8bc9-cea0da90e4c2",
   "metadata": {},
   "outputs": [
    {
     "name": "stdout",
     "output_type": "stream",
     "text": [
      "3\n",
      "5\n"
     ]
    }
   ],
   "source": [
    "# 2\n",
    "\n",
    "\n",
    "def min_distance(word1, word2):\n",
    "    len_word1, len_word2 = len(word1), len(word2)\n",
    "    dp = [[0] * (len_word2 + 1) for _ in range(len_word1 + 1)]\n",
    "\n",
    "    for i in range(len_word1 + 1):\n",
    "        dp[i][0] = i\n",
    "\n",
    "    for j in range(len_word2 + 1):\n",
    "        dp[0][j] = j\n",
    "\n",
    "    for i in range(1, len_word1 + 1):\n",
    "        for j in range(1, len_word2 + 1):\n",
    "            if word1[i - 1] == word2[j - 1]:\n",
    "                dp[i][j] = dp[i - 1][j - 1]\n",
    "            else:\n",
    "                dp[i][j] = 1 + min(dp[i - 1][j - 1], dp[i - 1][j], dp[i][j - 1])\n",
    "\n",
    "    return dp[len_word1][len_word2]\n",
    "\n",
    "word1_1, word2_1 = \"horse\", \"ros\"\n",
    "word1_2, word2_2 = \"intention\", \"execution\"\n",
    "\n",
    "print(min_distance(word1_1, word2_1))  \n",
    "print(min_distance(word1_2, word2_2))  \n"
   ]
  },
  {
   "cell_type": "code",
   "execution_count": 10,
   "id": "18998c97-b870-43fc-b3cb-b7500424a187",
   "metadata": {},
   "outputs": [
    {
     "name": "stdout",
     "output_type": "stream",
     "text": [
      "The maximum value in the array is: 22\n"
     ]
    }
   ],
   "source": [
    "#3\n",
    "\n",
    "def max_value_recursive(arr, n):\n",
    "    if n == 1:\n",
    "        return arr[0]\n",
    "    else:\n",
    "        return max(arr[n - 1], max_value_recursive(arr, n - 1))\n",
    "\n",
    "array = [13, 1, -3, 22, 5]\n",
    "array_length = len(array)\n",
    "\n",
    "max_value = max_value_recursive(array, array_length)\n",
    "print(\"The maximum value in the array is:\", max_value)\n",
    "\n"
   ]
  },
  {
   "cell_type": "code",
   "execution_count": 11,
   "id": "6949d2f5-940c-4dd1-9488-e1df924f8e15",
   "metadata": {},
   "outputs": [
    {
     "name": "stdout",
     "output_type": "stream",
     "text": [
      "The sum of the values in the array is: 120\n"
     ]
    }
   ],
   "source": [
    "#4\n",
    "\n",
    "def sum_values_recursive(arr, n):\n",
    "    if n == 0:\n",
    "        return 0\n",
    "    else:\n",
    "        return arr[n - 1] + sum_values_recursive(arr, n - 1)\n",
    "\n",
    "array = [92, 23, 15, -20, 10]\n",
    "array_length = len(array)\n",
    "\n",
    "sum_values = sum_values_recursive(array, array_length)\n",
    "print(\"The sum of the values in the array is:\", sum_values)\n"
   ]
  },
  {
   "cell_type": "code",
   "execution_count": 13,
   "id": "f73d1e22-59a1-4046-a0bd-d4f6592dbcf5",
   "metadata": {},
   "outputs": [
    {
     "name": "stdout",
     "output_type": "stream",
     "text": [
      "Input1 (153): Yes\n",
      "Input2 (134): No\n"
     ]
    }
   ],
   "source": [
    "# 5\n",
    "\n",
    "\n",
    "def is_armstrong_number(n):\n",
    "    num_str = str(n)\n",
    "    num_digits = len(num_str)\n",
    "    \n",
    "    sum_digits = sum(int(digit) ** num_digits for digit in num_str)\n",
    "    \n",
    "    if sum_digits == n:\n",
    "        return \"Yes\"\n",
    "    else:\n",
    "        return \"No\"\n",
    "\n",
    "input1 = 153\n",
    "input2 = 134\n",
    "\n",
    "output1 = is_armstrong_number(input1)\n",
    "output2 = is_armstrong_number(input2)\n",
    "\n",
    "print(f\"Input1 ({input1}): {output1}\")\n",
    "print(f\"Input2 ({input2}): {output2}\")\n"
   ]
  },
  {
   "cell_type": "code",
   "execution_count": null,
   "id": "79fe6610-232a-4d76-9d37-690b17df88e5",
   "metadata": {},
   "outputs": [],
   "source": []
  }
 ],
 "metadata": {
  "kernelspec": {
   "display_name": "Python 3 (ipykernel)",
   "language": "python",
   "name": "python3"
  },
  "language_info": {
   "codemirror_mode": {
    "name": "ipython",
    "version": 3
   },
   "file_extension": ".py",
   "mimetype": "text/x-python",
   "name": "python",
   "nbconvert_exporter": "python",
   "pygments_lexer": "ipython3",
   "version": "3.10.8"
  }
 },
 "nbformat": 4,
 "nbformat_minor": 5
}
