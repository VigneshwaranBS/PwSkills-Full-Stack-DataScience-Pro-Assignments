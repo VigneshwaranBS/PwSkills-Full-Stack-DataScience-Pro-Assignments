{
 "cells": [
  {
   "cell_type": "markdown",
   "id": "17efacfb-376a-4056-9b16-8a4bcfc0d7fb",
   "metadata": {},
   "source": [
    "#1 Declare two variables, `x` and `y`, and assign them integer values. Swap the values of these variables\n",
    "without using any temporary variable."
   ]
  },
  {
   "cell_type": "code",
   "execution_count": 1,
   "id": "f2882444-3366-4cc1-90ff-3c98ed99e948",
   "metadata": {},
   "outputs": [],
   "source": [
    "x = 5\n",
    "y = 10\n",
    "\n",
    "x = x + y\n",
    "y = x - y\n",
    "x = x - y\n",
    "\n"
   ]
  },
  {
   "cell_type": "code",
   "execution_count": 2,
   "id": "0c3a6212-5a03-4b2a-b35f-8cf623ef6228",
   "metadata": {},
   "outputs": [
    {
     "name": "stdout",
     "output_type": "stream",
     "text": [
      "After swapping:\n",
      "x = 10\n",
      "y = 5\n"
     ]
    }
   ],
   "source": [
    "\n",
    "print(\"After swapping:\")\n",
    "print(\"x =\", x)\n",
    "print(\"y =\", y)"
   ]
  },
  {
   "cell_type": "markdown",
   "id": "e48aa32e-1e77-45b4-a692-e81c91f1f041",
   "metadata": {},
   "source": [
    "#2 Create a program that calculates the area of a rectangle. Take the length and width as inputs from the\n",
    "user and store them in variables. Calculate and display the area"
   ]
  },
  {
   "cell_type": "code",
   "execution_count": 3,
   "id": "5178affd-79fa-4633-bb43-0b9892d5524e",
   "metadata": {},
   "outputs": [
    {
     "name": "stdin",
     "output_type": "stream",
     "text": [
      "Enter the length :  15\n",
      "Enter the width :  25\n"
     ]
    },
    {
     "name": "stdout",
     "output_type": "stream",
     "text": [
      "The area of the rectangle is: 375.0\n"
     ]
    }
   ],
   "source": [
    "length = float(input(\"Enter the length : \"))\n",
    "width = float(input(\"Enter the width : \"))\n",
    "\n",
    "area = length * width\n",
    "\n",
    "print(\"The area of the rectangle is:\", area)\n"
   ]
  },
  {
   "cell_type": "markdown",
   "id": "7fba30ca-1cbd-4188-915f-de9688a8105e",
   "metadata": {},
   "source": [
    "#3 Write a Python program that converts temperatures from Celsius to Fahrenheit. Take the\n",
    "temperature in Celsius as input, store it in a variable, convert it to Fahrenheit, and display the result."
   ]
  },
  {
   "cell_type": "code",
   "execution_count": 4,
   "id": "b4879af6-e61f-4103-ae0c-acbfb064c373",
   "metadata": {},
   "outputs": [
    {
     "name": "stdin",
     "output_type": "stream",
     "text": [
      "Enter the temperature in Celsius:  5\n"
     ]
    },
    {
     "name": "stdout",
     "output_type": "stream",
     "text": [
      "41.0\n"
     ]
    }
   ],
   "source": [
    "celsius = float(input(\"Enter the temperature in Celsius: \"))\n",
    "\n",
    "fahrenheit = (celsius * 9/5) + 32\n",
    "\n",
    "print( fahrenheit)\n"
   ]
  },
  {
   "cell_type": "markdown",
   "id": "bcb666ec-6189-4d04-9725-1e4c58f3d9f6",
   "metadata": {},
   "source": [
    "#4  Write a Python program that takes a string as input and prints the length of the string.\n"
   ]
  },
  {
   "cell_type": "code",
   "execution_count": 7,
   "id": "64cfc290-d836-4be1-af7b-32b40d7347ba",
   "metadata": {},
   "outputs": [
    {
     "name": "stdin",
     "output_type": "stream",
     "text": [
      "Enter a string:  +95\n"
     ]
    },
    {
     "name": "stdout",
     "output_type": "stream",
     "text": [
      "3\n"
     ]
    }
   ],
   "source": [
    "input_string = input(\"Enter a string: \")\n",
    "\n",
    "length = len(input_string)\n",
    "print(length)\n"
   ]
  },
  {
   "cell_type": "markdown",
   "id": "ab17ef47-36b3-499a-8723-95d80b3a258e",
   "metadata": {},
   "source": [
    "#5 Create a program that takes a sentence from the user and counts the number of vowels (a, e, i, o, u)\n",
    "in the string.\n"
   ]
  },
  {
   "cell_type": "code",
   "execution_count": 10,
   "id": "752ac973-2663-4b70-b248-c8e4393fdffd",
   "metadata": {},
   "outputs": [
    {
     "name": "stdin",
     "output_type": "stream",
     "text": [
      "Enter a abcd:  3frfs\n"
     ]
    },
    {
     "name": "stdout",
     "output_type": "stream",
     "text": [
      "no of vowles 0\n"
     ]
    }
   ],
   "source": [
    "sentence = input(\"Enter a abcd: \")\n",
    "\n",
    "sentence = sentence.lower()\n",
    "\n",
    "vowels = 0\n",
    "\n",
    "for char in sentence:\n",
    "    if char in 'aeiou':\n",
    "        vowels += 1\n",
    "\n",
    "print(\"no of vowles\", vowels)\n"
   ]
  },
  {
   "cell_type": "markdown",
   "id": "4ad4221d-8675-49f1-939f-8ded2b1c5351",
   "metadata": {},
   "source": [
    "#6  Given a string, reverse the order of characters using string slicing and print the reversed string.\n"
   ]
  },
  {
   "cell_type": "code",
   "execution_count": 11,
   "id": "3acc1190-0375-4427-a0fa-68ab1cd34fd9",
   "metadata": {},
   "outputs": [
    {
     "name": "stdin",
     "output_type": "stream",
     "text": [
      "Enter a string:  vicky\n"
     ]
    },
    {
     "name": "stdout",
     "output_type": "stream",
     "text": [
      "ykciv\n"
     ]
    }
   ],
   "source": [
    "# Taking input from the user\n",
    "input1 = input(\"Enter a string: \")\n",
    "\n",
    "# Reversing the string using string slicing\n",
    "reversed1 = input1[::-1]\n",
    "\n",
    "# Displaying the reversed string\n",
    "print( reversed1)\n"
   ]
  },
  {
   "cell_type": "markdown",
   "id": "dbf8c602-f8b0-4d6a-b02a-3ba5ab574c1f",
   "metadata": {},
   "source": [
    "#7 Write a program that takes a string as input and checks if it is a palindrome (reads the same forwards\n",
    "and backwards)."
   ]
  },
  {
   "cell_type": "code",
   "execution_count": 17,
   "id": "0049488c-3fb1-4ecf-bbc6-9b27860e48b2",
   "metadata": {},
   "outputs": [
    {
     "name": "stdin",
     "output_type": "stream",
     "text": [
      "Enter a string:  malayalam\n"
     ]
    },
    {
     "name": "stdout",
     "output_type": "stream",
     "text": [
      "The entered string is a palindrome.\n"
     ]
    }
   ],
   "source": [
    "input_string = input(\"Enter a string: \")\n",
    "\n",
    "reversed_string = input_string[::-1]\n",
    "\n",
    "if cleaned_string == input_string:\n",
    "    print(\"The entered string is a palindrome.\")\n",
    "else:\n",
    "    print(\"The entered string is not a palindrome.\")\n"
   ]
  },
  {
   "cell_type": "markdown",
   "id": "0fd05681-0661-4cea-9129-b25023116e12",
   "metadata": {},
   "source": [
    "#8 Create a program that takes a string as input and removes all the spaces from it. Print the modified\n",
    "string without spaces."
   ]
  },
  {
   "cell_type": "code",
   "execution_count": 18,
   "id": "85499c2e-d5ef-4b1b-9d5d-f3e36b17c0b5",
   "metadata": {},
   "outputs": [
    {
     "name": "stdin",
     "output_type": "stream",
     "text": [
      "Enter a string:  vsfvsdvf vdfvd d ds\n"
     ]
    },
    {
     "name": "stdout",
     "output_type": "stream",
     "text": [
      "vsfvsdvfvdfvddds\n"
     ]
    }
   ],
   "source": [
    "input_string = input(\"Enter a string: \")\n",
    "\n",
    "nospace_string = input_string.replace(\" \", \"\")\n",
    "\n",
    "print(nospace_string)\n"
   ]
  },
  {
   "cell_type": "code",
   "execution_count": null,
   "id": "177ee1fb-fe47-4a00-a8d9-698a7e018f2d",
   "metadata": {},
   "outputs": [],
   "source": []
  }
 ],
 "metadata": {
  "kernelspec": {
   "display_name": "Python 3 (ipykernel)",
   "language": "python",
   "name": "python3"
  },
  "language_info": {
   "codemirror_mode": {
    "name": "ipython",
    "version": 3
   },
   "file_extension": ".py",
   "mimetype": "text/x-python",
   "name": "python",
   "nbconvert_exporter": "python",
   "pygments_lexer": "ipython3",
   "version": "3.10.8"
  }
 },
 "nbformat": 4,
 "nbformat_minor": 5
}
