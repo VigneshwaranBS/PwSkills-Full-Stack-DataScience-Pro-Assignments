{
 "cells": [
  {
   "cell_type": "code",
   "execution_count": 1,
   "id": "cbeb61ee-1c9d-4969-9027-077935a51479",
   "metadata": {},
   "outputs": [
    {
     "name": "stdout",
     "output_type": "stream",
     "text": [
      "Value of T(2): 105\n"
     ]
    }
   ],
   "source": [
    "# 1\n",
    "\n",
    "def recurrence_relation(n):\n",
    "    if n == 0:\n",
    "        return 5  # Base case\n",
    "    else:\n",
    "        return 3 * recurrence_relation(n - 1) + 12 * n\n",
    "\n",
    "# Calculate T(2)\n",
    "result = recurrence_relation(2)\n",
    "print(\"Value of T(2):\", result)\n"
   ]
  },
  {
   "cell_type": "markdown",
   "id": "79e275b0-7ae5-47fb-bd74-60b014f8d608",
   "metadata": {},
   "source": [
    "## Question 2"
   ]
  },
  {
   "cell_type": "markdown",
   "id": "b234f893-4b7f-459a-9da5-0ef11141a588",
   "metadata": {},
   "source": [
    "\n",
    "\n",
    "### a. \\( T(n) = T(n-1) + c \\)\n",
    "\n",
    "Let's solve for \\( T(n) \\):\n",
    "\\( T(n) = T(n-1) + c \\)\n",
    "\\( = [T(n-2) + c] + c \\)\n",
    "\\( = T(n-2) + 2c \\)\n",
    "\\( = T(n-3) + 3c \\)\n",
    "\\( = T(n-k) + kc \\)\n",
    "\n",
    "For a base case, let's say \\( T(0) = a \\):\n",
    "When \\( n = k \\), \\( T(0) = T(n-k) + kc \\)\n",
    "\\( a = T(0) + kc \\)\n",
    "\\( a = a + kc \\)\n",
    "\\( kc = 0 \\)\n",
    "\\( k = 0 \\)\n",
    "\n",
    "Therefore, \\( T(n) = T(n-0) + 0 \\) implies \\( T(n) = T(n) \\) and the solution is \\( \\boxed{T(n) = T(n)} \\), which means the original relation doesn't allow us to express \\( T(n) \\) explicitly in terms of \\( n \\).\n",
    "\n",
    "### b. \\( T(n) = 2T(n/2) + n \\)\n",
    "\n",
    "This relation represents the time complexity of an algorithm using the divide and conquer method. Let's solve it using the substitution method:\n",
    "\n",
    "Let \\( n = 2^k \\):\n",
    "\\( T(2^k) = 2T(2^{k-1}) + 2^k \\)\n",
    "\\( = 2[2T(2^{k-2}) + 2^{k-1}] + 2^k \\)\n",
    "\\( = 2^2T(2^{k-2}) + 2^k + 2^k \\)\n",
    "\\( = 2^2[2T(2^{k-3}) + 2^{k-2}] + 2^k + 2^k \\)\n",
    "\\( = 2^3T(2^{k-3}) + 3 \\cdot 2^k \\)\n",
    "\\( = 2^iT(2^{k-i}) + i \\cdot 2^k \\)\n",
    "\n",
    "Setting \\( 2^{k-i} = 1 \\) (base case):\n",
    "\\( 2^{k-i} = 1 \\)\n",
    "\\( k - i = 0 \\)\n",
    "\\( i = k \\)\n",
    "\n",
    "Thus, when \\( i = k \\), we get \\( T(1) = 2^kT(1) + k \\cdot 2^k \\)\n",
    "\\( T(1) - 2^kT(1) = k \\cdot 2^k \\)\n",
    "\\( T(1) = \\frac{k \\cdot 2^k}{1 - 2^k} \\)\n",
    "\n",
    "Since \\( n = 2^k \\), we substitute \\( k = \\log_2 n \\) into the equation:\n",
    "\\( T(1) = \\frac{\\log_2 n \\cdot n}{1 - n} \\)\n",
    "\n",
    "Therefore, the solution for \\( T(n) \\) in terms of \\( n \\) is \\( \\boxed{T(n) = \\frac{\\log_2 n \\cdot n}{1 - n}} \\).\n",
    "\n",
    "### c. \\( T(n) = 2T(n/2) + c \\)\n",
    "\n",
    "Using the same approach as in part b, we can solve this recurrence relation and the solution will be \\( \\boxed{T(n) = c \\cdot n} \\).\n",
    "\n",
    "### d. \\( T(n) = T(n/2) + c \\)\n",
    "\n",
    "For this recurrence relation, the solution is \\( \\boxed{T(n) = c \\cdot \\log_2 n} \\).\n",
    "\n"
   ]
  },
  {
   "cell_type": "code",
   "execution_count": 4,
   "id": "cebcf3b1-3a4d-4259-8249-699eb03f7012",
   "metadata": {},
   "outputs": [
    {
     "name": "stdout",
     "output_type": "stream",
     "text": [
      "T(16) = 80.0\n"
     ]
    }
   ],
   "source": [
    "# b\n",
    "import math\n",
    "\n",
    "def solve_recurrence_b(n):\n",
    "    if n == 1:\n",
    "        return 1\n",
    "    return 2 * solve_recurrence_b(n / 2) + n\n",
    "\n",
    "n = 16  # Change this value to test different 'n'\n",
    "result_b = solve_recurrence_b(n)\n",
    "print(f\"T({n}) = {result_b}\")\n"
   ]
  },
  {
   "cell_type": "code",
   "execution_count": 3,
   "id": "4d74aa46-6508-4eae-9e93-412121ffdb1f",
   "metadata": {},
   "outputs": [
    {
     "name": "stdout",
     "output_type": "stream",
     "text": [
      "T(16) = 155\n"
     ]
    }
   ],
   "source": [
    "#c\n",
    "def solve_recurrence_c(n, c):\n",
    "    if n == 1:\n",
    "        return c\n",
    "    return 2 * solve_recurrence_c(n / 2, c) + c\n",
    "\n",
    "n = 16  # Change this value to test different 'n'\n",
    "c_val = 5  # Change this value to test different 'c'\n",
    "result_c = solve_recurrence_c(n, c_val)\n",
    "print(f\"T({n}) = {result_c}\")\n"
   ]
  },
  {
   "cell_type": "code",
   "execution_count": 5,
   "id": "37101379-5eeb-4b96-a3b9-dae246e529c2",
   "metadata": {},
   "outputs": [
    {
     "name": "stdout",
     "output_type": "stream",
     "text": [
      "T(16) = 25\n"
     ]
    }
   ],
   "source": [
    "# d\n",
    "\n",
    "def solve_recurrence_d(n, c):\n",
    "    if n == 1:\n",
    "        return c\n",
    "    return solve_recurrence_d(n / 2, c) + c\n",
    "\n",
    "n = 16  # Change this value to test different 'n'\n",
    "c_val = 5  # Change this value to test different 'c'\n",
    "result_d = solve_recurrence_d(n, c_val)\n",
    "print(f\"T({n}) = {result_d}\")\n"
   ]
  },
  {
   "cell_type": "markdown",
   "id": "f78fb7a2-eb00-4537-a412-184fe9aaa9fb",
   "metadata": {},
   "source": [
    "## Question 3\n"
   ]
  },
  {
   "cell_type": "code",
   "execution_count": 6,
   "id": "30c6f1e4-9906-4929-b1fe-4efee668b411",
   "metadata": {},
   "outputs": [
    {
     "name": "stdout",
     "output_type": "stream",
     "text": [
      "T(5) = 31\n"
     ]
    }
   ],
   "source": [
    "# a\n",
    "\n",
    "def solve_recurrence_a(n):\n",
    "    if n == 0:\n",
    "        return 0\n",
    "    return 2 * solve_recurrence_a(n - 1) + 1\n",
    "\n",
    "n_value = 5  # Change this value to test different 'n'\n",
    "result_a = solve_recurrence_a(n_value)\n",
    "print(f\"T({n_value}) = {result_a}\")\n"
   ]
  },
  {
   "cell_type": "code",
   "execution_count": 7,
   "id": "69a024ec-d42b-49fd-aae0-64426ff6b5b3",
   "metadata": {},
   "outputs": [
    {
     "name": "stdout",
     "output_type": "stream",
     "text": [
      "T(16) = 31\n"
     ]
    }
   ],
   "source": [
    "# b\n",
    "\n",
    "def solve_recurrence_b(n):\n",
    "    if n <= 1:\n",
    "        return n\n",
    "    return solve_recurrence_b(n // 2) + n\n",
    "\n",
    "n_value = 16  # Change this value to test different 'n'\n",
    "result_b = solve_recurrence_b(n_value)\n",
    "print(f\"T({n_value}) = {result_b}\")\n"
   ]
  },
  {
   "cell_type": "code",
   "execution_count": null,
   "id": "1b0d8e39-cd63-458f-8219-d41e6aeb1db9",
   "metadata": {},
   "outputs": [],
   "source": []
  }
 ],
 "metadata": {
  "kernelspec": {
   "display_name": "Python 3 (ipykernel)",
   "language": "python",
   "name": "python3"
  },
  "language_info": {
   "codemirror_mode": {
    "name": "ipython",
    "version": 3
   },
   "file_extension": ".py",
   "mimetype": "text/x-python",
   "name": "python",
   "nbconvert_exporter": "python",
   "pygments_lexer": "ipython3",
   "version": "3.10.8"
  }
 },
 "nbformat": 4,
 "nbformat_minor": 5
}
