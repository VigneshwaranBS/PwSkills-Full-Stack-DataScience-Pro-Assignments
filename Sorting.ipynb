{
 "cells": [
  {
   "cell_type": "markdown",
   "id": "de248bfa-a9b8-463f-ac83-a8be532c6050",
   "metadata": {},
   "source": [
    "## Sorting Assignments"
   ]
  },
  {
   "cell_type": "code",
   "execution_count": 12,
   "id": "6efe63db-eccb-4b7a-bb46-72b6c9ed4476",
   "metadata": {},
   "outputs": [
    {
     "name": "stdout",
     "output_type": "stream",
     "text": [
      "Element appearing maximum times: 3\n"
     ]
    }
   ],
   "source": [
    "# Q1 \n",
    "\n",
    "\n",
    "def find_max_frequency_element(arr):\n",
    "    element_count = {} \n",
    "    \n",
    "    for num in arr:\n",
    "        if num in element_count:\n",
    "            element_count[num] += 1\n",
    "        else:\n",
    "            element_count[num] = 1\n",
    "    \n",
    "    max_frequency_element = max(element_count, key=element_count.get)\n",
    "    return max_frequency_element\n",
    "\n",
    "numbers = [1, 3, 5, 3, 2, 3, 5, 6, 7, 3, 5, 3]\n",
    "result = find_max_frequency_element(numbers)\n",
    "print(\"Element appearing maximum times:\", result)\n"
   ]
  },
  {
   "cell_type": "code",
   "execution_count": 13,
   "id": "09563247-373c-4abf-8718-befe61feaa0d",
   "metadata": {},
   "outputs": [
    {
     "name": "stdout",
     "output_type": "stream",
     "text": [
      "The missing number is: 5\n"
     ]
    }
   ],
   "source": [
    "# Q 2\n",
    "\n",
    "def find_missing_number(nums):\n",
    "    n = len(nums) + 1  \n",
    "    total_sum = (n * (n + 1)) // 2  \n",
    "    list_sum = sum(nums) \n",
    "    missing_number = total_sum - list_sum\n",
    "    return missing_number\n",
    "\n",
    "given_list = [1, 2, 4, 6, 3, 7, 8]\n",
    "missing_num = find_missing_number(given_list)\n",
    "print(\"The missing number is:\", missing_num)\n"
   ]
  },
  {
   "cell_type": "code",
   "execution_count": 14,
   "id": "f97cfa88-55b5-4ce6-bed0-cac524867805",
   "metadata": {},
   "outputs": [
    {
     "name": "stdout",
     "output_type": "stream",
     "text": [
      "The number occurring odd times is: 3\n"
     ]
    }
   ],
   "source": [
    "# Q 3\n",
    "\n",
    "def find_odd_occurrence(arr):\n",
    "    result = 0\n",
    "    for num in arr:\n",
    "        result ^= num\n",
    "    return result\n",
    "\n",
    "nums = [1, 2, 3, 2, 3, 1, 3]\n",
    "odd_occurrence = find_odd_occurrence(nums)\n",
    "print(\"The number occurring odd times is:\", odd_occurrence)\n"
   ]
  },
  {
   "cell_type": "code",
   "execution_count": 15,
   "id": "be78ef72-9010-4473-b22a-c73c3b314e4a",
   "metadata": {},
   "outputs": [
    {
     "name": "stdout",
     "output_type": "stream",
     "text": [
      "The pair with sum 100 is: (90, 10)\n"
     ]
    }
   ],
   "source": [
    "# Q 4\n",
    "def find_two_elements_with_sum(arr, K):\n",
    "    num_dict = {}  \n",
    "\n",
    "    for num in arr:\n",
    "        if K - num in num_dict:\n",
    "            return num, K - num\n",
    "        num_dict[num] = True\n",
    "\n",
    "    return None  \n",
    "\n",
    "nums = [10, 20, 35, 50, 75, 85, 90]\n",
    "target_sum = 100\n",
    "result = find_two_elements_with_sum(nums, target_sum)\n",
    "if result:\n",
    "    print(f\"The pair with sum {target_sum} is: {result}\")\n",
    "else:\n",
    "    print(\"No such pair found.\")\n"
   ]
  },
  {
   "cell_type": "code",
   "execution_count": 16,
   "id": "eac85d48-c255-4a58-9ba3-858581d16de9",
   "metadata": {},
   "outputs": [
    {
     "name": "stdout",
     "output_type": "stream",
     "text": [
      "The two numbers with sum closest to zero are: (-80, 85)\n"
     ]
    }
   ],
   "source": [
    "# Q 5\n",
    "\n",
    "def find_two_closest_to_zero(arr):\n",
    "    arr.sort()\n",
    "    left, right = 0, len(arr) - 1\n",
    "    min_sum = float('inf')\n",
    "    result = None\n",
    "\n",
    "    while left < right:\n",
    "        current_sum = arr[left] + arr[right]\n",
    "        if abs(current_sum) < abs(min_sum):\n",
    "            min_sum = current_sum\n",
    "            result = arr[left], arr[right]\n",
    "        if current_sum < 0:\n",
    "            left += 1\n",
    "        else:\n",
    "            right -= 1\n",
    "\n",
    "    return result\n",
    "\n",
    "numbers = [1, 60, -10, 70, -80, 85]\n",
    "closest_to_zero = find_two_closest_to_zero(numbers)\n",
    "print(f\"The two numbers with sum closest to zero are: {closest_to_zero}\")\n"
   ]
  },
  {
   "cell_type": "code",
   "execution_count": 17,
   "id": "238ece3d-3c67-4542-aeb9-f53f5ea9eb9d",
   "metadata": {},
   "outputs": [
    {
     "name": "stdout",
     "output_type": "stream",
     "text": [
      "The three elements with sum 22 are: (4, 6, 12)\n"
     ]
    }
   ],
   "source": [
    "# Q 6\n",
    "\n",
    "def find_three_elements_with_sum(arr, target):\n",
    "    arr.sort()\n",
    "    n = len(arr)\n",
    "\n",
    "    for i in range(n - 2):\n",
    "        left, right = i + 1, n - 1\n",
    "        while left < right:\n",
    "            current_sum = arr[i] + arr[left] + arr[right]\n",
    "            if current_sum == target:\n",
    "                return arr[i], arr[left], arr[right]\n",
    "            elif current_sum < target:\n",
    "                left += 1\n",
    "            else:\n",
    "                right -= 1\n",
    "\n",
    "    return None\n",
    "\n",
    "numbers = [1, 4, 45, 6, 10, 8, 12]\n",
    "target_sum = 22\n",
    "result = find_three_elements_with_sum(numbers, target_sum)\n",
    "if result:\n",
    "    print(f\"The three elements with sum {target_sum} are: {result}\")\n",
    "else:\n",
    "    print(\"No such triplet found.\")\n"
   ]
  },
  {
   "cell_type": "code",
   "execution_count": 18,
   "id": "ee801806-1d43-4e64-b9d5-940047653457",
   "metadata": {},
   "outputs": [
    {
     "name": "stdout",
     "output_type": "stream",
     "text": [
      "The triplet satisfying i^2 + j^2 = k^2 is: (3, 4, 5)\n"
     ]
    }
   ],
   "source": [
    "# Q 7\n",
    "def find_triplet_square(arr):\n",
    "    squares = {num ** 2 for num in arr}\n",
    "\n",
    "    for i in range(len(arr)):\n",
    "        for j in range(i + 1, len(arr)):\n",
    "            if arr[i] ** 2 + arr[j] ** 2 in squares:\n",
    "                return arr[i], arr[j], int((arr[i] ** 2 + arr[j] ** 2) ** 0.5)\n",
    "\n",
    "    return None\n",
    "\n",
    "numbers = [3, 1, 4, 6, 5]\n",
    "result = find_triplet_square(numbers)\n",
    "if result:\n",
    "    print(f\"The triplet satisfying i^2 + j^2 = k^2 is: {result}\")\n",
    "else:\n",
    "    print(\"No such triplet found.\")\n"
   ]
  },
  {
   "cell_type": "code",
   "execution_count": 19,
   "id": "b0ef40b1-7eb6-4987-9f8b-8b99c1a8a08e",
   "metadata": {},
   "outputs": [
    {
     "name": "stdout",
     "output_type": "stream",
     "text": [
      "The majority element is: 4\n"
     ]
    }
   ],
   "source": [
    "# Q 8 \n",
    "\n",
    "def find_majority_element(arr):\n",
    "    candidate = None\n",
    "    count = 0\n",
    "\n",
    "    for num in arr:\n",
    "        if count == 0:\n",
    "            candidate = num\n",
    "            count = 1\n",
    "        elif candidate == num:\n",
    "            count += 1\n",
    "        else:\n",
    "            count -= 1\n",
    "\n",
    "    return candidate if arr.count(candidate) > len(arr) // 2 else None\n",
    "\n",
    "array = [3, 3, 4, 2, 4, 4, 2, 4, 4]\n",
    "result = find_majority_element(array)\n",
    "\n",
    "if result:\n",
    "    print(f\"The majority element is: {result}\")\n",
    "else:\n",
    "    print(\"No majority element found.\")\n"
   ]
  },
  {
   "cell_type": "code",
   "execution_count": 20,
   "id": "4bd8475c-2add-4bde-8b5c-316e964f4d28",
   "metadata": {},
   "outputs": [
    {
     "name": "stdout",
     "output_type": "stream",
     "text": [
      "The row with the maximum number of zeros is: 3\n"
     ]
    }
   ],
   "source": [
    "# Q 9\n",
    "\n",
    "def row_with_max_zeros(matrix):\n",
    "    n = len(matrix)\n",
    "    max_zeros = 0\n",
    "    row_index = -1\n",
    "\n",
    "    for i in range(n):\n",
    "        zeros_count = matrix[i].count(0)\n",
    "        if zeros_count > max_zeros:\n",
    "            max_zeros = zeros_count\n",
    "            row_index = i\n",
    "\n",
    "    return row_index\n",
    "\n",
    "matrix = [\n",
    "    [1, 1, 0, 0],\n",
    "    [1, 0, 0, 0],\n",
    "    [1, 1, 1, 1],\n",
    "    [0, 0, 0, 0]\n",
    "]\n",
    "\n",
    "result = row_with_max_zeros(matrix)\n",
    "\n",
    "if result != -1:\n",
    "    print(f\"The row with the maximum number of zeros is: {result}\")\n",
    "else:\n",
    "    print(\"No such row found.\")\n"
   ]
  },
  {
   "cell_type": "code",
   "execution_count": 21,
   "id": "60e6fe70-95ec-47d2-b8bc-f192f562e1c1",
   "metadata": {},
   "outputs": [
    {
     "name": "stdout",
     "output_type": "stream",
     "text": [
      "Sorted array: [0, 0, 0, 0, 0, 1, 1, 1, 1, 1, 2, 2]\n"
     ]
    }
   ],
   "source": [
    "# Q 10\n",
    "\n",
    "def sort_012(arr):\n",
    "    low = 0 \n",
    "    high = len(arr) - 1 \n",
    "    mid = 0  \n",
    "\n",
    "    while mid <= high:\n",
    "        if arr[mid] == 0:\n",
    "            arr[low], arr[mid] = arr[mid], arr[low]\n",
    "            low += 1\n",
    "            mid += 1\n",
    "        elif arr[mid] == 1:\n",
    "            mid += 1\n",
    "        else:\n",
    "            arr[mid], arr[high] = arr[high], arr[mid]\n",
    "            high -= 1\n",
    "\n",
    "array = [0, 1, 1, 0, 1, 2, 1, 2, 0, 0, 0, 1]\n",
    "sort_012(array)\n",
    "print(\"Sorted array:\", array)\n"
   ]
  },
  {
   "cell_type": "code",
   "execution_count": null,
   "id": "608d056c-3b3a-48eb-b0c6-5063ec386b9e",
   "metadata": {},
   "outputs": [],
   "source": []
  }
 ],
 "metadata": {
  "kernelspec": {
   "display_name": "Python 3 (ipykernel)",
   "language": "python",
   "name": "python3"
  },
  "language_info": {
   "codemirror_mode": {
    "name": "ipython",
    "version": 3
   },
   "file_extension": ".py",
   "mimetype": "text/x-python",
   "name": "python",
   "nbconvert_exporter": "python",
   "pygments_lexer": "ipython3",
   "version": "3.10.8"
  }
 },
 "nbformat": 4,
 "nbformat_minor": 5
}
