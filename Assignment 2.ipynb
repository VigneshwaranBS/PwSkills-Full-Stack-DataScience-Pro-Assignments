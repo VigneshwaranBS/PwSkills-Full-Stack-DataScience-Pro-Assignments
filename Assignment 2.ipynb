{
 "cells": [
  {
   "cell_type": "markdown",
   "id": "4c42c8cb-21c9-4812-b807-7262c722ad18",
   "metadata": {},
   "source": [
    "TOPIC: String Based Assignment Problem"
   ]
  },
  {
   "cell_type": "code",
   "execution_count": 2,
   "id": "e6ff624d-1d76-4b63-a58f-e3f2a6e2bcd0",
   "metadata": {},
   "outputs": [
    {
     "name": "stdout",
     "output_type": "stream",
     "text": [
      "narawhsengiv\n"
     ]
    }
   ],
   "source": [
    "string = \"vigneshwaran\"\n",
    "reversed_string = string[::-1]\n",
    "print(reversed_string)\n"
   ]
  },
  {
   "cell_type": "code",
   "execution_count": 4,
   "id": "6cee2655-8e17-48ae-95f7-babe877ae6d0",
   "metadata": {},
   "outputs": [
    {
     "name": "stdout",
     "output_type": "stream",
     "text": [
      "Palindrome\n"
     ]
    }
   ],
   "source": [
    "def is_pali(s):\n",
    "    return s==s[::-1]\n",
    "str = \"malayalam\"\n",
    "if is_pali(str):\n",
    "    print(\"Palindrome\")\n",
    "else:\n",
    "    print(\"not palindrome\")"
   ]
  },
  {
   "cell_type": "code",
   "execution_count": 6,
   "id": "54d57815-0f8d-4981-af3d-14370c5f53eb",
   "metadata": {},
   "outputs": [
    {
     "name": "stdout",
     "output_type": "stream",
     "text": [
      "VIGNESHWARAN\n"
     ]
    }
   ],
   "source": [
    "string = \"vigneshwaran\"\n",
    "uppercase = string.upper()\n",
    "print(uppercase)\n"
   ]
  },
  {
   "cell_type": "code",
   "execution_count": 7,
   "id": "eb762f22-343e-4b5b-abd1-233ef1b2fd1d",
   "metadata": {},
   "outputs": [
    {
     "name": "stdout",
     "output_type": "stream",
     "text": [
      "vigneshwaran\n"
     ]
    }
   ],
   "source": [
    "string = \"vigneshwaran\"\n",
    "uppercase = string.lower()\n",
    "print(uppercase)\n"
   ]
  },
  {
   "cell_type": "code",
   "execution_count": 13,
   "id": "29f0654f-1ad4-4d03-9068-faa4baca29c7",
   "metadata": {},
   "outputs": [
    {
     "name": "stdout",
     "output_type": "stream",
     "text": [
      "4\n"
     ]
    }
   ],
   "source": [
    "string = \"vigneshwaran\"\n",
    "vowels = \"aeiouAEIOU\"\n",
    "coun= sum(string.count(vowel) for vowel in vowels)\n",
    "print(coun)\n",
    "\n"
   ]
  },
  {
   "cell_type": "code",
   "execution_count": 15,
   "id": "1f343f17-e9ba-467b-961c-af9de62a5165",
   "metadata": {},
   "outputs": [
    {
     "name": "stdout",
     "output_type": "stream",
     "text": [
      "8\n"
     ]
    }
   ],
   "source": [
    "string = \"vigneshwaran\"\n",
    "consonant_count = sum(1 for char in string if char.isalpha() and char.lower() not in 'aeiou')\n",
    "print(consonant_count)\n"
   ]
  },
  {
   "cell_type": "code",
   "execution_count": 17,
   "id": "cb603c3c-8430-4de6-aeb7-c55be39cad87",
   "metadata": {},
   "outputs": [
    {
     "name": "stdout",
     "output_type": "stream",
     "text": [
      "vigneshwaran\n"
     ]
    }
   ],
   "source": [
    "string = \"   vignesh waran   \"\n",
    "no_whitespace = string.replace(\" \", \"\")\n",
    "print(no_whitespace)\n"
   ]
  },
  {
   "cell_type": "code",
   "execution_count": 23,
   "id": "ca5c996c-13e5-4cd2-b981-b6eec75a8df1",
   "metadata": {},
   "outputs": [
    {
     "name": "stdout",
     "output_type": "stream",
     "text": [
      "13\n"
     ]
    }
   ],
   "source": [
    "string = \"Hello, World!\"\n",
    "length = sum(1 for _ in string)\n",
    "print(length)"
   ]
  },
  {
   "cell_type": "code",
   "execution_count": 27,
   "id": "623c010e-7e34-4699-979a-234864f561b1",
   "metadata": {},
   "outputs": [
    {
     "name": "stdout",
     "output_type": "stream",
     "text": [
      "Contains the word\n"
     ]
    }
   ],
   "source": [
    "string = \"vigneshwaran\"\n",
    "word = \"waran\"\n",
    "if word in string:\n",
    "    print(\"Contains the word\")\n",
    "else:\n",
    "    print(\"Does not contain the word\")\n"
   ]
  },
  {
   "cell_type": "code",
   "execution_count": 33,
   "id": "2ceeae93-4535-4938-b0ce-6db7a5e68095",
   "metadata": {},
   "outputs": [
    {
     "name": "stdout",
     "output_type": "stream",
     "text": [
      "vickywaran\n"
     ]
    }
   ],
   "source": [
    "string =\"vigneshwaran\"\n",
    "old_word=\"vignesh\"\n",
    "new_word=\"vicky\"\n",
    "replace_word= string.replace(old_word,new_word)\n",
    "print(replace_word)"
   ]
  },
  {
   "cell_type": "code",
   "execution_count": 34,
   "id": "fb8b1b5d-e98f-4750-b01c-317bd64331c1",
   "metadata": {},
   "outputs": [
    {
     "name": "stdout",
     "output_type": "stream",
     "text": [
      "1\n"
     ]
    }
   ],
   "source": [
    "string = \"vignesh vicky vignesh\"\n",
    "word = \"vicky\"\n",
    "count = string.count(word)\n",
    "print(count)\n"
   ]
  },
  {
   "cell_type": "code",
   "execution_count": 35,
   "id": "203c0c5a-e4ab-4248-a4ac-d56aa0e412c2",
   "metadata": {},
   "outputs": [
    {
     "name": "stdout",
     "output_type": "stream",
     "text": [
      "8\n"
     ]
    }
   ],
   "source": [
    "string = \"vignesh vicky vignesh\"\n",
    "word = \"vicky\"\n",
    "count = string.index(word)\n",
    "print(count)\n"
   ]
  },
  {
   "cell_type": "code",
   "execution_count": 37,
   "id": "da55aff4-dbc0-401c-9d26-59539bd30aa9",
   "metadata": {},
   "outputs": [
    {
     "name": "stdout",
     "output_type": "stream",
     "text": [
      "8\n"
     ]
    }
   ],
   "source": [
    "string = \"vignesh vicky vignesh\"\n",
    "word = \"vicky\"\n",
    "count = string.rindex(word)\n",
    "print(count)\n"
   ]
  },
  {
   "cell_type": "code",
   "execution_count": 38,
   "id": "e5268cdb-382f-44f0-a884-f6ffe97bdee3",
   "metadata": {},
   "outputs": [
    {
     "name": "stdout",
     "output_type": "stream",
     "text": [
      "['vigneshwaran']\n"
     ]
    }
   ],
   "source": [
    "string =\"vigneshwaran\"\n",
    "new = string.split()\n",
    "print(new)"
   ]
  },
  {
   "cell_type": "code",
   "execution_count": 39,
   "id": "8cf07e41-b9ec-4a27-8f47-7173ab07c728",
   "metadata": {},
   "outputs": [
    {
     "name": "stdout",
     "output_type": "stream",
     "text": [
      "vicky vignesh\n"
     ]
    }
   ],
   "source": [
    "word_list = [\"vicky\", \"vignesh\"]\n",
    "string = \" \".join(word_list)\n",
    "print(string)\n"
   ]
  },
  {
   "cell_type": "code",
   "execution_count": 42,
   "id": "8c3a4e7d-26a5-4a18-80af-b98c16e100b5",
   "metadata": {},
   "outputs": [
    {
     "name": "stdout",
     "output_type": "stream",
     "text": [
      "vigneshwaranbs\n"
     ]
    }
   ],
   "source": [
    "string = \"vigneshwaranbs\"\n",
    "underscore_string = string.replace(\" \", \"_\")\n",
    "print(underscore_string)\n"
   ]
  },
  {
   "cell_type": "code",
   "execution_count": 43,
   "id": "6eda58ff-e256-49fe-96bd-4aa1416b21c0",
   "metadata": {},
   "outputs": [
    {
     "name": "stdout",
     "output_type": "stream",
     "text": [
      "Starts with the prefix\n"
     ]
    }
   ],
   "source": [
    "string = \"vigneshwaranbs\"\n",
    "prefix = \"v\"\n",
    "if string.startswith(prefix):\n",
    "    print(\"Starts with the prefix\")\n",
    "else:\n",
    "    print(\"Does not start with the prefix\")\n"
   ]
  },
  {
   "cell_type": "code",
   "execution_count": 45,
   "id": "fc7233da-2034-4a81-bb82-1739640bab23",
   "metadata": {},
   "outputs": [
    {
     "name": "stdout",
     "output_type": "stream",
     "text": [
      "Does not start with the suffix\n"
     ]
    }
   ],
   "source": [
    "string = \"vigneshwaranbs\"\n",
    "suffix = \"v\"\n",
    "if string.endswith(suffix):\n",
    "    print(\"Starts with the suffix\")\n",
    "else:\n",
    "    print(\"Does not start with the suffix\")\n"
   ]
  },
  {
   "cell_type": "code",
   "execution_count": 46,
   "id": "423a532a-01e9-4e1f-a1ac-b27421079b1a",
   "metadata": {},
   "outputs": [
    {
     "name": "stdout",
     "output_type": "stream",
     "text": [
      "Vigneshwaranbs\n"
     ]
    }
   ],
   "source": [
    "string = \"vigneshwaranbs\"\n",
    "title_case_string = string.title()\n",
    "print(title_case_string)\n"
   ]
  },
  {
   "cell_type": "code",
   "execution_count": 47,
   "id": "aafa96ad-2dfe-490b-9b06-3b9425eacda0",
   "metadata": {},
   "outputs": [
    {
     "name": "stdout",
     "output_type": "stream",
     "text": [
      "beautiful\n"
     ]
    }
   ],
   "source": [
    "string = \"Hello, beautiful world!\"\n",
    "words = string.split()\n",
    "longest_word = max(words, key=len)\n",
    "print(longest_word)\n"
   ]
  },
  {
   "cell_type": "code",
   "execution_count": 50,
   "id": "4b111abf-b52d-431e-baf9-86ec91fa3ea2",
   "metadata": {},
   "outputs": [
    {
     "name": "stdout",
     "output_type": "stream",
     "text": [
      "Hello,\n"
     ]
    }
   ],
   "source": [
    "string = \"Hello, beautiful world!\"\n",
    "words = string.split()\n",
    "short = min(words, key=len)\n",
    "print(short)\n"
   ]
  },
  {
   "cell_type": "code",
   "execution_count": 54,
   "id": "8e6268e7-5b63-40c6-a3da-7c4b2e2a6726",
   "metadata": {},
   "outputs": [
    {
     "name": "stdout",
     "output_type": "stream",
     "text": [
      "vignesh , vigneshwaran\n"
     ]
    }
   ],
   "source": [
    "string = \"vigneshwaran , vignesh\"\n",
    "words = string.split()\n",
    "reversed_string = \" \".join(words[::-1])\n",
    "print(reversed_string)\n"
   ]
  },
  {
   "cell_type": "code",
   "execution_count": 58,
   "id": "4015f52f-fbae-47af-9e0e-678fb3c7d206",
   "metadata": {},
   "outputs": [
    {
     "name": "stdout",
     "output_type": "stream",
     "text": [
      "Not alphanumeric\n"
     ]
    }
   ],
   "source": [
    "string = \"64fs43r\\6\"\n",
    "if string.isalnum():\n",
    "    print(\"Alphanumeric\")\n",
    "else:\n",
    "    print(\"Not alphanumeric\")\n"
   ]
  },
  {
   "cell_type": "code",
   "execution_count": 67,
   "id": "58b6a357-f62c-4981-8317-e80269b06f92",
   "metadata": {},
   "outputs": [
    {
     "name": "stdout",
     "output_type": "stream",
     "text": [
      "265"
     ]
    }
   ],
   "source": [
    "s=\"VIGNESH|265\"\n",
    "for i in s:\n",
    " if(i.isdigit()):\n",
    "\t print(i,end=\"\")\n"
   ]
  },
  {
   "cell_type": "code",
   "execution_count": 68,
   "id": "ff9a4791-1132-4386-8a27-73c7aa4b8e42",
   "metadata": {},
   "outputs": [
    {
     "name": "stdout",
     "output_type": "stream",
     "text": [
      "VIGNESH"
     ]
    }
   ],
   "source": [
    "s=\"VIGNESH|265\"\n",
    "for i in s:\n",
    " if(i.isalpha()):\n",
    "\t print(i,end=\"\")\n"
   ]
  },
  {
   "cell_type": "code",
   "execution_count": 70,
   "id": "9cf7609b-eb6c-499c-84ec-8d93787fa49f",
   "metadata": {},
   "outputs": [
    {
     "name": "stdout",
     "output_type": "stream",
     "text": [
      "1\n"
     ]
    }
   ],
   "source": [
    "string = \"Vigneshwaarn\"\n",
    "uppercase_count = sum(1 for char in string if char.isupper())\n",
    "print(uppercase_count)\n"
   ]
  },
  {
   "cell_type": "code",
   "execution_count": 72,
   "id": "a55b8d8f-38e9-4821-b081-c5f3fee200ec",
   "metadata": {},
   "outputs": [
    {
     "name": "stdout",
     "output_type": "stream",
     "text": [
      "11\n"
     ]
    }
   ],
   "source": [
    "string = \"Vigneshwaarn\"\n",
    "lowercase_count = sum(1 for char in string if char.islower())\n",
    "print(lowercase_count)\n"
   ]
  },
  {
   "cell_type": "code",
   "execution_count": 1,
   "id": "0a7e9d8e-3b73-40d0-9789-e9f053c982a1",
   "metadata": {},
   "outputs": [
    {
     "name": "stdout",
     "output_type": "stream",
     "text": [
      "VIGNESHWARAN\n"
     ]
    }
   ],
   "source": [
    "string = \"vigneshwaran\"\n",
    "swapped_string = string.swapcase()\n",
    "print(swapped_string)\n"
   ]
  },
  {
   "cell_type": "code",
   "execution_count": 2,
   "id": "6031bdb7-6210-4000-921b-c81f5797fec9",
   "metadata": {},
   "outputs": [
    {
     "name": "stdout",
     "output_type": "stream",
     "text": [
      "Hello,  world!\n"
     ]
    }
   ],
   "source": [
    "string = \"Hello, beautiful world!\"\n",
    "word_to_remove = \"beautiful\"\n",
    "new_string = string.replace(word_to_remove, \"\")\n",
    "print(new_string)\n"
   ]
  },
  {
   "cell_type": "code",
   "execution_count": 3,
   "id": "eec565f9-1293-4662-9ec1-05d0bbdf24f6",
   "metadata": {},
   "outputs": [
    {
     "name": "stdout",
     "output_type": "stream",
     "text": [
      "Valid email\n"
     ]
    }
   ],
   "source": [
    "import re\n",
    "email = \"bs.vigneshwaran@gmail.com\"\n",
    "if re.match(r'^[a-zA-Z0-9._%+-]+@[a-zA-Z0-9.-]+\\.[a-zA-Z]{2,}$', email):\n",
    "    print(\"Valid email\")\n",
    "else:\n",
    "    print(\"Invalid email\")\n"
   ]
  },
  {
   "cell_type": "code",
   "execution_count": 4,
   "id": "04c3093b-3a86-478a-bcc6-54b788bcb4e9",
   "metadata": {},
   "outputs": [
    {
     "name": "stdout",
     "output_type": "stream",
     "text": [
      "bs.vigneshwaran\n"
     ]
    }
   ],
   "source": [
    "email = \"bs.vigneshwaran@gmail.com\"\n",
    "username = email.split('@')[0]\n",
    "print(username)\n"
   ]
  },
  {
   "cell_type": "code",
   "execution_count": 5,
   "id": "f8f14b5e-5c05-4683-b724-289beefce097",
   "metadata": {},
   "outputs": [
    {
     "name": "stdout",
     "output_type": "stream",
     "text": [
      "gmail.com\n"
     ]
    }
   ],
   "source": [
    "email = \"bs.vigneshwaran@gmail.com\"\n",
    "username = email.split('@')[1]\n",
    "print(username)"
   ]
  },
  {
   "cell_type": "code",
   "execution_count": 10,
   "id": "476412a5-a231-4368-8f0d-7d57ae9c4e65",
   "metadata": {},
   "outputs": [
    {
     "name": "stdout",
     "output_type": "stream",
     "text": [
      "vignesh waran\n"
     ]
    }
   ],
   "source": [
    "string = \"vignesh    waran\"\n",
    "single_space_string = ' '.join(string.split())\n",
    "print(single_space_string)\n"
   ]
  },
  {
   "cell_type": "code",
   "execution_count": 11,
   "id": "1a381b87-8e80-4345-8685-45119c06730c",
   "metadata": {},
   "outputs": [
    {
     "name": "stdout",
     "output_type": "stream",
     "text": [
      "Invalid URL\n"
     ]
    }
   ],
   "source": [
    "import re\n",
    "url = \"https://www.exzfdample.com\"\n",
    "if re.match(r'^https?://(?:www\\.)?\\w+\\.\\w{2,3}$', url):\n",
    "    print(\"Valid URL\")\n",
    "else:\n",
    "    print(\"Invalid URL\")\n"
   ]
  },
  {
   "cell_type": "code",
   "execution_count": 20,
   "id": "c44a2644-0e3a-45cb-a1f2-c54761e7cced",
   "metadata": {},
   "outputs": [
    {
     "name": "stdout",
     "output_type": "stream",
     "text": [
      "https\n"
     ]
    }
   ],
   "source": [
    "url = \"https://www.example.com\"\n",
    "protocol = url.split(':')[0]\n",
    "print(protocol)\n"
   ]
  },
  {
   "cell_type": "code",
   "execution_count": 22,
   "id": "f8eb2d68-0432-4117-84ec-749a1a76598a",
   "metadata": {},
   "outputs": [
    {
     "name": "stdout",
     "output_type": "stream",
     "text": [
      "Counter({'n': 2, 's': 2, 'a': 2, 'v': 1, 'i': 1, 'g': 1, 'e': 1, 'h': 1, 'w': 1, 'r': 1, 'b': 1})\n"
     ]
    }
   ],
   "source": [
    "from collections import Counter\n",
    "string = \"vigneshwaranbs\"\n",
    "character_frequency = Counter(string)\n",
    "print(character_frequency)\n"
   ]
  },
  {
   "cell_type": "code",
   "execution_count": 23,
   "id": "a6e38bf5-e9d0-4faf-a44f-76d360e640cf",
   "metadata": {},
   "outputs": [
    {
     "name": "stdout",
     "output_type": "stream",
     "text": [
      "vigneshwaranbs\n"
     ]
    }
   ],
   "source": [
    "import string\n",
    "string_with_punctuation = \"vigneshwaranbs\"\n",
    "no_punctuation_string = string_with_punctuation.translate(str.maketrans('', '', string.punctuation))\n",
    "print(no_punctuation_string)\n"
   ]
  },
  {
   "cell_type": "code",
   "execution_count": 25,
   "id": "84eeb8ba-db59-49c2-acb3-2aa4ac40f652",
   "metadata": {},
   "outputs": [
    {
     "name": "stdout",
     "output_type": "stream",
     "text": [
      "Contains non-digit characters\n"
     ]
    }
   ],
   "source": [
    "string = \"1sfa2345\"\n",
    "if string.isdigit():\n",
    "    print(\"Contains only digits\")\n",
    "else:\n",
    "    print(\"Contains non-digit characters\")\n"
   ]
  },
  {
   "cell_type": "code",
   "execution_count": 27,
   "id": "3f2d6598-6fa6-4e9a-8292-4eeeb8e722c1",
   "metadata": {},
   "outputs": [
    {
     "name": "stdout",
     "output_type": "stream",
     "text": [
      "Contains only alphabets\n"
     ]
    }
   ],
   "source": [
    "string = \"vigneshwaran\"\n",
    "if string.isalpha():\n",
    "    print(\"Contains only alphabets\")\n",
    "else:\n",
    "    print(\"Contains non-alphabet characters\")\n"
   ]
  },
  {
   "cell_type": "code",
   "execution_count": 29,
   "id": "b6ef7733-26d0-440d-931d-80b2971d2838",
   "metadata": {},
   "outputs": [
    {
     "name": "stdout",
     "output_type": "stream",
     "text": [
      "['v', 'i', 'g', 'n', 'e', 's', 'h', 'w', 'a', 'r', 'a', 'n', 'b', 's']\n"
     ]
    }
   ],
   "source": [
    "string = \"vigneshwaranbs\"\n",
    "char_list = list(string)\n",
    "print(char_list)\n"
   ]
  },
  {
   "cell_type": "code",
   "execution_count": 32,
   "id": "d212affb-aa9d-40b3-bdea-09134b60d74a",
   "metadata": {},
   "outputs": [
    {
     "name": "stdout",
     "output_type": "stream",
     "text": [
      "Anagrams\n"
     ]
    }
   ],
   "source": [
    "string1 = \"listen\"\n",
    "string2 = \"silent\"\n",
    "if sorted(string1) == sorted(string2):\n",
    "    print(\"Anagrams\")\n",
    "else:\n",
    "    print(\"Not anagrams\")\n"
   ]
  },
  {
   "cell_type": "code",
   "execution_count": 43,
   "id": "a99395ec-65c4-43c0-9510-3b6afde0ab9f",
   "metadata": {},
   "outputs": [
    {
     "name": "stdout",
     "output_type": "stream",
     "text": [
      "vigneshwaran,vicky,vignesh\n"
     ]
    }
   ],
   "source": [
    "string = \"vigneshwaran,vicky,vignesh\"\n",
    "word_count = Counter(string.split())\n",
    "most_common_word = word_count.most_common(1)[0][0]\n",
    "print(most_common_word)\n"
   ]
  },
  {
   "cell_type": "code",
   "execution_count": 44,
   "id": "8f256d2a-79e4-43b5-8b0b-4390e6a3ca3c",
   "metadata": {},
   "outputs": [
    {
     "name": "stdout",
     "output_type": "stream",
     "text": [
      "{'vigneshwaran,vicky,vignesH'}\n"
     ]
    }
   ],
   "source": [
    "string = \"vigneshwaran,vicky,vignesH\"\n",
    "unique_words = set(string.split())\n",
    "print(unique_words)\n"
   ]
  },
  {
   "cell_type": "code",
   "execution_count": 46,
   "id": "c7b78345-d2a1-4add-9caf-b1ee8a1a66b6",
   "metadata": {},
   "outputs": [
    {
     "name": "stdout",
     "output_type": "stream",
     "text": [
      "7\n"
     ]
    }
   ],
   "source": [
    "def count_syllables(word):\n",
    "    vowels = \"aeiouAEIOU\"\n",
    "    count = 0\n",
    "    for char in word:\n",
    "        if char in vowels:\n",
    "            count += 1\n",
    "    return count\n",
    "\n",
    "string = \"vigneshwaran,vicky,vignesH\"\n",
    "words = string.split()\n",
    "syllable_count = sum(count_syllables(word) for word in words)\n",
    "print(syllable_count)\n",
    "\n"
   ]
  },
  {
   "cell_type": "code",
   "execution_count": 50,
   "id": "3923b8ab-ed63-4552-8ef1-b958098f2c74",
   "metadata": {},
   "outputs": [
    {
     "name": "stdout",
     "output_type": "stream",
     "text": [
      "Does not contain special characters\n"
     ]
    }
   ],
   "source": [
    "string = \"vigneshwaran\"\n",
    "if re.search(r'[!@#$%^&*(),.?\":{}|<>]', string):\n",
    "    print(\"Contains special characters\")\n",
    "else:\n",
    "    print(\"Does not contain special characters\")"
   ]
  },
  {
   "cell_type": "code",
   "execution_count": 52,
   "id": "bb897941-4b7e-4abb-aa00-d368521b9fb2",
   "metadata": {},
   "outputs": [
    {
     "name": "stdout",
     "output_type": "stream",
     "text": [
      "[['1', 'John', 'Doe'], ['2', 'Jane', 'Smith'], ['3', 'Bob', 'Johnson']]\n"
     ]
    }
   ],
   "source": [
    "csv_string = \"1,John,Doe\\n2,Jane,Smith\\n3,Bob,Johnson\"\n",
    "csv_rows = csv_string.split(\"\\n\")\n",
    "csv_list = [row.split(\",\") for row in csv_rows]\n",
    "print(csv_list)\n"
   ]
  },
  {
   "cell_type": "markdown",
   "id": "efa5d4dc-c48e-467d-9d67-c08f5b7c4d3c",
   "metadata": {},
   "source": [
    "List Based Practice Problem :"
   ]
  },
  {
   "cell_type": "code",
   "execution_count": 2,
   "id": "f4f9c5c6-30b6-412c-94a3-ae515928464d",
   "metadata": {},
   "outputs": [
    {
     "data": {
      "text/plain": [
       "[1, 2, 3, 4, 5, 6, 7, 8, 9, 10]"
      ]
     },
     "execution_count": 2,
     "metadata": {},
     "output_type": "execute_result"
    }
   ],
   "source": [
    "list_10 =list(range(1,11))\n",
    "list_10"
   ]
  },
  {
   "cell_type": "code",
   "execution_count": 3,
   "id": "84b28e16-ab8e-4a91-95d8-d52cb354b39e",
   "metadata": {},
   "outputs": [
    {
     "data": {
      "text/plain": [
       "list"
      ]
     },
     "execution_count": 3,
     "metadata": {},
     "output_type": "execute_result"
    }
   ],
   "source": [
    "type(list_10)"
   ]
  },
  {
   "cell_type": "code",
   "execution_count": 4,
   "id": "b98cae81-399d-49d8-abcb-7f71e4bd7f20",
   "metadata": {},
   "outputs": [
    {
     "name": "stdout",
     "output_type": "stream",
     "text": [
      "5\n"
     ]
    }
   ],
   "source": [
    "integer_list = [1, 2, 3, 4, 5]\n",
    "length = sum(1 for _ in integer_list)\n",
    "print(length)\n"
   ]
  },
  {
   "cell_type": "code",
   "execution_count": 5,
   "id": "187d1af7-30d9-4fef-abf3-d47d6e67e3d5",
   "metadata": {},
   "outputs": [],
   "source": [
    "list_10.append(11)"
   ]
  },
  {
   "cell_type": "code",
   "execution_count": 6,
   "id": "0ad40d6f-0d4f-4190-af47-c18cf17e4fcb",
   "metadata": {},
   "outputs": [
    {
     "data": {
      "text/plain": [
       "[1, 2, 3, 4, 5, 6, 7, 8, 9, 10, 11]"
      ]
     },
     "execution_count": 6,
     "metadata": {},
     "output_type": "execute_result"
    }
   ],
   "source": [
    "list_10"
   ]
  },
  {
   "cell_type": "code",
   "execution_count": 9,
   "id": "773ad256-d285-4998-b02f-8b86bfbfa516",
   "metadata": {},
   "outputs": [
    {
     "name": "stdout",
     "output_type": "stream",
     "text": [
      "[1, 2, 10, 3, 4, 5]\n"
     ]
    }
   ],
   "source": [
    "integer_list = [1, 2, 3, 4, 5]\n",
    "integer_list.insert(2, 10)\n",
    "print(integer_list)\n"
   ]
  },
  {
   "cell_type": "code",
   "execution_count": 10,
   "id": "3c465905-9319-440d-92ae-eaffcf73829e",
   "metadata": {},
   "outputs": [
    {
     "name": "stdout",
     "output_type": "stream",
     "text": [
      "[1, 2, 4, 5]\n"
     ]
    }
   ],
   "source": [
    "integer_list = [1, 2, 3, 4, 5]\n",
    "integer_list.remove(3)\n",
    "print(integer_list)\n"
   ]
  },
  {
   "cell_type": "code",
   "execution_count": 12,
   "id": "adce17ee-901a-4d1a-a93c-2fc05f34e18e",
   "metadata": {},
   "outputs": [
    {
     "name": "stdout",
     "output_type": "stream",
     "text": [
      "[1, 2, 3, 5]\n"
     ]
    }
   ],
   "source": [
    "integer_list = [1, 2, 3, 4, 5]\n",
    "integer_list.pop(3)\n",
    "print(integer_list)\n"
   ]
  },
  {
   "cell_type": "code",
   "execution_count": 16,
   "id": "7ef113f3-eb4d-4579-89f8-80717cdb046c",
   "metadata": {},
   "outputs": [
    {
     "name": "stdout",
     "output_type": "stream",
     "text": [
      "yes\n"
     ]
    }
   ],
   "source": [
    "integer_list = [1, 2, 3, 4, 5]\n",
    "element=5\n",
    "if element in integer_list:\n",
    "    print(\"yes\")\n",
    "else:\n",
    "    print(\"no\")"
   ]
  },
  {
   "cell_type": "code",
   "execution_count": 17,
   "id": "a8cff92b-5d0a-4352-aaa0-3ac95e17308c",
   "metadata": {},
   "outputs": [
    {
     "name": "stdout",
     "output_type": "stream",
     "text": [
      "2\n"
     ]
    }
   ],
   "source": [
    "integer_list = [1, 2, 3, 4, 5, 3]\n",
    "element = 3\n",
    "index = integer_list.index(element)\n",
    "print(index)\n"
   ]
  },
  {
   "cell_type": "code",
   "execution_count": 19,
   "id": "7ba066dc-ce8c-4b7b-9e09-79cc3efd8335",
   "metadata": {},
   "outputs": [
    {
     "name": "stdout",
     "output_type": "stream",
     "text": [
      "1\n"
     ]
    }
   ],
   "source": [
    "integer_list = [1, 2, 3, 4, 5, 3]\n",
    "element = 1\n",
    "count = integer_list.count(element)\n",
    "print(count)\n"
   ]
  },
  {
   "cell_type": "code",
   "execution_count": 21,
   "id": "11da6466-19ac-47cb-93c8-059f042e3d45",
   "metadata": {},
   "outputs": [
    {
     "name": "stdout",
     "output_type": "stream",
     "text": [
      "[3, 5, 4, 3, 2, 1]\n"
     ]
    }
   ],
   "source": [
    "integer_list = [1, 2, 3, 4, 5, 3]\n",
    "count = integer_list[::-1]\n",
    "print(count)"
   ]
  },
  {
   "cell_type": "code",
   "execution_count": 22,
   "id": "0a18e7a5-ce5f-4fa0-b5dd-6af44e327664",
   "metadata": {},
   "outputs": [
    {
     "name": "stdout",
     "output_type": "stream",
     "text": [
      "[1, 2, 5, 8, 9]\n"
     ]
    }
   ],
   "source": [
    "integer_list = [5, 2, 8, 1, 9]\n",
    "sorted_list = sorted(integer_list)\n",
    "print(sorted_list)\n"
   ]
  },
  {
   "cell_type": "code",
   "execution_count": 23,
   "id": "1fd988d1-47d7-4f83-84be-2b9d9793dfbe",
   "metadata": {},
   "outputs": [
    {
     "name": "stdout",
     "output_type": "stream",
     "text": [
      "[9, 8, 5, 2, 1]\n"
     ]
    }
   ],
   "source": [
    "integer_list = [5, 2, 8, 1, 9]\n",
    "sorted_list = sorted(integer_list,reverse=True)\n",
    "print(sorted_list)\n"
   ]
  },
  {
   "cell_type": "code",
   "execution_count": 24,
   "id": "07172fa0-6679-4553-8142-a4fefaed3b62",
   "metadata": {},
   "outputs": [
    {
     "name": "stdout",
     "output_type": "stream",
     "text": [
      "[2, 4, 6, 8, 10, 12, 14, 16, 18, 20]\n"
     ]
    }
   ],
   "source": [
    "even_list = [x for x in range(1, 21) if x % 2 == 0]\n",
    "print(even_list)\n"
   ]
  },
  {
   "cell_type": "code",
   "execution_count": 25,
   "id": "d4be5cc5-3267-4f78-8075-7c6f3a47f152",
   "metadata": {},
   "outputs": [
    {
     "name": "stdout",
     "output_type": "stream",
     "text": [
      "[1, 3, 5, 7, 9, 11, 13, 15, 17, 19]\n"
     ]
    }
   ],
   "source": [
    "even_list = [x for x in range(1, 21) if x % 2 == 1]\n",
    "print(even_list)\n"
   ]
  },
  {
   "cell_type": "code",
   "execution_count": 26,
   "id": "f882a2a0-3701-4b8b-b23a-5259e22f49b2",
   "metadata": {},
   "outputs": [],
   "source": [
    "integer_list = [5, 2, 8, 1, 9]\n",
    "sumlist= sum(integer_list)"
   ]
  },
  {
   "cell_type": "code",
   "execution_count": 27,
   "id": "6afc9863-7d73-4983-a722-4d082df0c083",
   "metadata": {},
   "outputs": [
    {
     "data": {
      "text/plain": [
       "25"
      ]
     },
     "execution_count": 27,
     "metadata": {},
     "output_type": "execute_result"
    }
   ],
   "source": [
    "sumlist"
   ]
  },
  {
   "cell_type": "code",
   "execution_count": 28,
   "id": "38091529-dfed-4de9-b49d-4fa7b762634d",
   "metadata": {},
   "outputs": [],
   "source": [
    "maxvalue=max(integer_list)"
   ]
  },
  {
   "cell_type": "code",
   "execution_count": 29,
   "id": "c1b00492-cdee-4b4e-9418-4aad81d01a15",
   "metadata": {},
   "outputs": [
    {
     "data": {
      "text/plain": [
       "9"
      ]
     },
     "execution_count": 29,
     "metadata": {},
     "output_type": "execute_result"
    }
   ],
   "source": [
    "maxvalue"
   ]
  },
  {
   "cell_type": "code",
   "execution_count": 31,
   "id": "25b5835f-9c9a-4537-836f-dd1b90202bea",
   "metadata": {},
   "outputs": [
    {
     "data": {
      "text/plain": [
       "1"
      ]
     },
     "execution_count": 31,
     "metadata": {},
     "output_type": "execute_result"
    }
   ],
   "source": [
    "minvalue = min(integer_list)\n",
    "minvalue"
   ]
  },
  {
   "cell_type": "code",
   "execution_count": 34,
   "id": "140d675b-e966-490e-b3aa-463af79067d0",
   "metadata": {},
   "outputs": [
    {
     "name": "stdout",
     "output_type": "stream",
     "text": [
      "[1, 4, 9, 16, 25, 36, 49, 64, 81, 100]\n"
     ]
    }
   ],
   "source": [
    "squares_list = [x**2 for x in range(1, 11)]\n",
    "print(squares_list)\n"
   ]
  },
  {
   "cell_type": "code",
   "execution_count": 35,
   "id": "dbad17fd-2b5a-45bb-886d-b7220bf8b2d0",
   "metadata": {},
   "outputs": [
    {
     "name": "stdout",
     "output_type": "stream",
     "text": [
      "[93, 73, 70, 65, 86, 28, 55, 60, 74, 24]\n"
     ]
    }
   ],
   "source": [
    "import random\n",
    "random_list = [random.randint(1, 100) for _ in range(10)]\n",
    "print(random_list)\n"
   ]
  },
  {
   "cell_type": "code",
   "execution_count": 36,
   "id": "0d45c414-8d7c-4588-8002-9123ffc8b053",
   "metadata": {},
   "outputs": [
    {
     "name": "stdout",
     "output_type": "stream",
     "text": [
      "[1, 2, 3, 4, 5]\n"
     ]
    }
   ],
   "source": [
    "integer_list = [1, 2, 2, 3, 4, 4, 5]\n",
    "unique_list = list(set(integer_list))\n",
    "print(unique_list)\n"
   ]
  },
  {
   "cell_type": "code",
   "execution_count": 37,
   "id": "d9c75886-e3ac-4754-9443-3f409a3c62a7",
   "metadata": {},
   "outputs": [
    {
     "data": {
      "text/plain": [
       "[0, 4, 5, 6]"
      ]
     },
     "execution_count": 37,
     "metadata": {},
     "output_type": "execute_result"
    }
   ],
   "source": [
    "list1= [1,5,8,6,4,0,1]\n",
    "list2=[5,6,7,4,2,5,9,0]\n",
    "common = list(set(list1) & set(list2))\n",
    "common"
   ]
  },
  {
   "cell_type": "code",
   "execution_count": 38,
   "id": "b9f5aa3b-49d3-4e10-a07c-679658f427ba",
   "metadata": {},
   "outputs": [
    {
     "data": {
      "text/plain": [
       "[8, 1]"
      ]
     },
     "execution_count": 38,
     "metadata": {},
     "output_type": "execute_result"
    }
   ],
   "source": [
    "list1= [1,5,8,6,4,0,1]\n",
    "list2=[5,6,7,4,2,5,9,0]\n",
    "common = list(set(list1) - set(list2))\n",
    "common"
   ]
  },
  {
   "cell_type": "code",
   "execution_count": 39,
   "id": "9f0dfaa3-4ce3-4d58-aef5-c3506e49bfe6",
   "metadata": {},
   "outputs": [
    {
     "name": "stdout",
     "output_type": "stream",
     "text": [
      "[1, 2, 3, 4, 5, 6]\n"
     ]
    }
   ],
   "source": [
    "list1 = [1, 2, 3]\n",
    "list2 = [4, 5, 6]\n",
    "merged_list = list1 + list2\n",
    "print(merged_list)\n"
   ]
  },
  {
   "cell_type": "code",
   "execution_count": 40,
   "id": "add717fc-3db0-4775-9417-e30667e81e76",
   "metadata": {},
   "outputs": [
    {
     "name": "stdout",
     "output_type": "stream",
     "text": [
      "[2, 4, 6, 8, 10]\n"
     ]
    }
   ],
   "source": [
    "integer_list = [1, 2, 3, 4, 5]\n",
    "doubled_list = [x * 2 for x in integer_list]\n",
    "print(doubled_list)\n"
   ]
  },
  {
   "cell_type": "code",
   "execution_count": 41,
   "id": "48389f5b-4e22-48f5-952d-de86ed0167ac",
   "metadata": {},
   "outputs": [
    {
     "name": "stdout",
     "output_type": "stream",
     "text": [
      "[1, 3, 5]\n"
     ]
    }
   ],
   "source": [
    "integer_list = [1, 2, 3, 4, 5, 6]\n",
    "filtered_list = [x for x in integer_list if x % 2 != 0]\n",
    "print(filtered_list)\n"
   ]
  },
  {
   "cell_type": "code",
   "execution_count": 46,
   "id": "5d4f2585-8338-44a2-8793-6d7a3cec1746",
   "metadata": {},
   "outputs": [
    {
     "name": "stdout",
     "output_type": "stream",
     "text": [
      "[1, 2, 3, 4, 5]\n"
     ]
    },
    {
     "data": {
      "text/plain": [
       "list"
      ]
     },
     "execution_count": 46,
     "metadata": {},
     "output_type": "execute_result"
    }
   ],
   "source": [
    "string_list = [\"1\", \"2\", \"3\", \"4\", \"5\"]\n",
    "integer_list = [int(x) for x in string_list]\n",
    "print(integer_list)\n",
    "type(integer_list)\n"
   ]
  },
  {
   "cell_type": "code",
   "execution_count": 48,
   "id": "a4b8b987-3bf0-4ae5-bd7f-3e784918092e",
   "metadata": {},
   "outputs": [
    {
     "name": "stdout",
     "output_type": "stream",
     "text": [
      "['1', '2', '3', '4', '5']\n"
     ]
    }
   ],
   "source": [
    "integer_list = [1, 2, 3, 4, 5]\n",
    "string_list = [str(x) for x in integer_list]\n",
    "print(string_list)\n"
   ]
  },
  {
   "cell_type": "code",
   "execution_count": 49,
   "id": "2242f658-73ad-437f-939f-a95f554cfe58",
   "metadata": {},
   "outputs": [
    {
     "name": "stdout",
     "output_type": "stream",
     "text": [
      "[1, 2, 3, 4, 5, 6, 7, 8, 9]\n"
     ]
    }
   ],
   "source": [
    "nested_list = [[1, 2, 3], [4, 5, 6], [7, 8, 9]]\n",
    "flattened_list = [x for sublist in nested_list for x in sublist]\n",
    "print(flattened_list)\n"
   ]
  },
  {
   "cell_type": "code",
   "execution_count": 50,
   "id": "1b4e0e53-f7bf-4a35-a154-43f26cdc58a8",
   "metadata": {},
   "outputs": [
    {
     "name": "stdout",
     "output_type": "stream",
     "text": [
      "[0, 1, 1, 2, 3, 5, 8, 13, 21, 34]\n"
     ]
    }
   ],
   "source": [
    "def fibonacci(n):\n",
    "    fib_list = [0, 1]\n",
    "    while len(fib_list) < n:\n",
    "        fib_list.append(fib_list[-1] + fib_list[-2])\n",
    "    return fib_list\n",
    "\n",
    "n = 10\n",
    "fibonacci_list = fibonacci(n)\n",
    "print(fibonacci_list)\n"
   ]
  },
  {
   "cell_type": "code",
   "execution_count": 55,
   "id": "74f8821b-f3ce-49aa-80ea-10d032ff3974",
   "metadata": {},
   "outputs": [
    {
     "name": "stdout",
     "output_type": "stream",
     "text": [
      "False\n"
     ]
    }
   ],
   "source": [
    "integer_list = [1, 2, 3, 14, 5]\n",
    "is_sorted = all(integer_list[i] <= integer_list[i+1] for i in range(len(integer_list)-1))\n",
    "print(is_sorted)\n"
   ]
  },
  {
   "cell_type": "code",
   "execution_count": 58,
   "id": "3ee951dc-a08e-4226-8c77-129657509409",
   "metadata": {},
   "outputs": [
    {
     "name": "stdout",
     "output_type": "stream",
     "text": [
      "[4, 5, 1, 2, 3]\n"
     ]
    }
   ],
   "source": [
    "def rotate_left(lst, n):\n",
    "    n = n % len(lst)\n",
    "    rotated_list = lst[n:] + lst[:n]\n",
    "    return rotated_list\n",
    "\n",
    "integer_list = [1, 2, 3, 4, 5]\n",
    "n = 3\n",
    "rotated_list = rotate_left(integer_list, n)\n",
    "print(rotated_list)\n"
   ]
  },
  {
   "cell_type": "code",
   "execution_count": 59,
   "id": "621c0a08-0091-4d06-abfa-f1d065afcd5c",
   "metadata": {},
   "outputs": [
    {
     "name": "stdout",
     "output_type": "stream",
     "text": [
      "[2, 3, 5, 7, 11, 13, 17, 19, 23, 29, 31, 37, 41, 43, 47]\n"
     ]
    }
   ],
   "source": [
    "def is_prime(num):\n",
    "    if num <= 1:\n",
    "        return False\n",
    "    if num <= 3:\n",
    "        return True\n",
    "    if num % 2 == 0 or num % 3 == 0:\n",
    "        return False\n",
    "    i = 5\n",
    "    while i * i <= num:\n",
    "        if num % i == 0 or num % (i + 2) == 0:\n",
    "            return False\n",
    "        i += 6\n",
    "    return True\n",
    "\n",
    "prime_list = [num for num in range(2, 51) if is_prime(num)]\n",
    "print(prime_list)\n"
   ]
  },
  {
   "cell_type": "code",
   "execution_count": 60,
   "id": "eb5d3763-ca8c-4096-8957-3662f2a46938",
   "metadata": {},
   "outputs": [
    {
     "name": "stdout",
     "output_type": "stream",
     "text": [
      "[[1, 2, 3], [4, 5, 6], [7, 8, 9], [10]]\n"
     ]
    }
   ],
   "source": [
    "def split_into_chunks(lst, n):\n",
    "    return [lst[i:i+n] for i in range(0, len(lst), n)]\n",
    "\n",
    "integer_list = [1, 2, 3, 4, 5, 6, 7, 8, 9, 10]\n",
    "chunk_size = 3\n",
    "chunked_list = split_into_chunks(integer_list, chunk_size)\n",
    "print(chunked_list)\n"
   ]
  },
  {
   "cell_type": "code",
   "execution_count": 67,
   "id": "406a3e13-ec6d-4ad9-9a51-3ed51fd78088",
   "metadata": {},
   "outputs": [
    {
     "name": "stdout",
     "output_type": "stream",
     "text": [
      "8\n"
     ]
    }
   ],
   "source": [
    "integer_list = [5, 2, 8, 1, 9]\n",
    "sorted_list = sorted(integer_list)\n",
    "second_largest = sorted_list[-2]\n",
    "sorted_list\n",
    "print(second_largest)\n"
   ]
  },
  {
   "cell_type": "code",
   "execution_count": 68,
   "id": "032338d6-acfc-41a4-80d9-b7efb4c3687c",
   "metadata": {},
   "outputs": [
    {
     "name": "stdout",
     "output_type": "stream",
     "text": [
      "[1, 4, 9, 16, 25]\n"
     ]
    }
   ],
   "source": [
    "integer_list = [1, 2, 3, 4, 5]\n",
    "squared_list = [x ** 2 for x in integer_list]\n",
    "print(squared_list)\n"
   ]
  },
  {
   "cell_type": "code",
   "execution_count": 74,
   "id": "ca8371eb-594c-468e-8bd8-1a0e05f29ad7",
   "metadata": {},
   "outputs": [
    {
     "name": "stdout",
     "output_type": "stream",
     "text": [
      "[1, 3, 4, 5]\n"
     ]
    }
   ],
   "source": [
    "integer_list = [1, 2, 3, 2, 4, 5, 2]\n",
    "element_to_remove = 2\n",
    "filtered_list = [x for x in integer_list if x != element_to_remove]\n",
    "# sorted_list = sorted(filtered_list ,reverse=True)[-2]\n",
    "# sorted_list\n",
    "print(filtered_list)\n"
   ]
  },
  {
   "cell_type": "code",
   "execution_count": 75,
   "id": "45782753-878a-43d6-a590-6546fbed5004",
   "metadata": {},
   "outputs": [
    {
     "name": "stdout",
     "output_type": "stream",
     "text": [
      "[3, 4, 5]\n"
     ]
    }
   ],
   "source": [
    "list1 = [1, 2, 3, 4, 5]\n",
    "list2 = [3, 4, 5, 6, 7]\n",
    "intersection = list(set(list1) & set(list2))\n",
    "print(intersection)\n"
   ]
  },
  {
   "cell_type": "code",
   "execution_count": 76,
   "id": "5aea0015-f161-4232-98dc-6942475d167d",
   "metadata": {},
   "outputs": [
    {
     "name": "stdout",
     "output_type": "stream",
     "text": [
      "[1, 2, 3, 4, 5, 6, 7]\n"
     ]
    }
   ],
   "source": [
    "list1 = [1, 2, 3, 4, 5]\n",
    "list2 = [3, 4, 5, 6, 7]\n",
    "union = list(set(list1) | set(list2))\n",
    "print(union)\n"
   ]
  },
  {
   "cell_type": "code",
   "execution_count": 80,
   "id": "61c15540-d58c-49e4-996b-607d32ada1dd",
   "metadata": {},
   "outputs": [
    {
     "name": "stdout",
     "output_type": "stream",
     "text": [
      "Even: 4\n",
      "Odd: 3\n"
     ]
    }
   ],
   "source": [
    "integer_list = [1, 2, 3, 4, 5, 6,8]\n",
    "odd_count = sum(1 for x in integer_list if x % 2 != 0)\n",
    "even_count = len(integer_list) - odd_count\n",
    "print(\"Even:\", even_count)\n",
    "print(\"Odd:\", odd_count)\n"
   ]
  },
  {
   "cell_type": "code",
   "execution_count": 83,
   "id": "81e3e32e-9853-492f-94f6-a853e54ced18",
   "metadata": {},
   "outputs": [
    {
     "name": "stdout",
     "output_type": "stream",
     "text": [
      "{'apple': 0, 'banana': 1, 'cherry': 2}\n"
     ]
    }
   ],
   "source": [
    "def list_to_dict(lst):\n",
    "    return {element: index for index, element in enumerate(lst)}\n",
    "\n",
    "my_list = [\"apple\", \"banana\", \"cherry\"]\n",
    "my_dict = list_to_dict(my_list)\n",
    "print(my_dict)\n"
   ]
  },
  {
   "cell_type": "code",
   "execution_count": 87,
   "id": "a0d2e488-b577-47f2-9b89-29c5efb97e3d",
   "metadata": {},
   "outputs": [
    {
     "name": "stdout",
     "output_type": "stream",
     "text": [
      "[5, 2, 1, 3, 4]\n"
     ]
    }
   ],
   "source": [
    "my_list = [1, 2, 3, 4, 5]\n",
    "random.shuffle(my_list)\n",
    "print(my_list)\n"
   ]
  },
  {
   "cell_type": "code",
   "execution_count": 89,
   "id": "9c4b9b51-97ee-4f7c-8101-8e53226a1421",
   "metadata": {},
   "outputs": [
    {
     "name": "stdout",
     "output_type": "stream",
     "text": [
      "[1, 1, 2, 6, 24, 120, 720, 5040, 40320, 362880]\n"
     ]
    }
   ],
   "source": [
    "def factorial(n):\n",
    "    if n == 0:\n",
    "        return 1\n",
    "    return n * factorial(n - 1)\n",
    "\n",
    "factorial_list = [factorial(i) for i in range(10)]\n",
    "print(factorial_list)\n"
   ]
  },
  {
   "cell_type": "code",
   "execution_count": 90,
   "id": "a19b96f3-8ce4-44ff-afc5-b87c8985b672",
   "metadata": {},
   "outputs": [
    {
     "name": "stdout",
     "output_type": "stream",
     "text": [
      "True\n"
     ]
    }
   ],
   "source": [
    "def have_common_elements(list1, list2):\n",
    "    return any(element in list2 for element in list1)\n",
    "\n",
    "list1 = [1, 2, 3]\n",
    "list2 = [3, 4, 5]\n",
    "has_common = have_common_elements(list1, list2)\n",
    "print(has_common)\n"
   ]
  },
  {
   "cell_type": "code",
   "execution_count": 91,
   "id": "d7b32526-d039-4172-b488-806be6e0ff74",
   "metadata": {},
   "outputs": [
    {
     "name": "stdout",
     "output_type": "stream",
     "text": [
      "[]\n"
     ]
    }
   ],
   "source": [
    "my_list = [1, 2, 3, 4, 5]\n",
    "my_list.clear()\n",
    "print(my_list)\n"
   ]
  },
  {
   "cell_type": "code",
   "execution_count": 94,
   "id": "d6b387ec-1c49-466f-85af-e18c8e391e7c",
   "metadata": {},
   "outputs": [
    {
     "name": "stdout",
     "output_type": "stream",
     "text": [
      "[1, 0, 3, 0, 5]\n"
     ]
    }
   ],
   "source": [
    "my_list = [1, -2, 3, -4, 5]\n",
    "my_list = [0 if num < 0 else num for num in my_list]\n",
    "print(my_list)\n"
   ]
  },
  {
   "cell_type": "code",
   "execution_count": 95,
   "id": "5833bccc-600b-4407-93f6-100ce0e4957a",
   "metadata": {},
   "outputs": [
    {
     "name": "stdout",
     "output_type": "stream",
     "text": [
      "['This', 'is', 'a', 'sentence.']\n"
     ]
    }
   ],
   "source": [
    "sentence = \"This is a sentence.\"\n",
    "word_list = sentence.split()\n",
    "print(word_list)\n"
   ]
  },
  {
   "cell_type": "code",
   "execution_count": 96,
   "id": "56446c42-3562-44f7-a8ff-b425de94c3e3",
   "metadata": {},
   "outputs": [
    {
     "name": "stdout",
     "output_type": "stream",
     "text": [
      "Hello world\n"
     ]
    }
   ],
   "source": [
    "word_list = [\"Hello\", \"world\"]\n",
    "sentence = \" \".join(word_list)\n",
    "print(sentence)\n"
   ]
  },
  {
   "cell_type": "code",
   "execution_count": 97,
   "id": "3620e980-3271-4402-a09a-b613df366c8a",
   "metadata": {},
   "outputs": [
    {
     "name": "stdout",
     "output_type": "stream",
     "text": [
      "[1, 2, 4, 8, 16]\n"
     ]
    }
   ],
   "source": [
    "n = 5\n",
    "powers_of_2 = [2 ** i for i in range(n)]\n",
    "print(powers_of_2)\n"
   ]
  },
  {
   "cell_type": "code",
   "execution_count": 98,
   "id": "f1637f88-02f5-4076-90cf-78a71d5e0c6d",
   "metadata": {},
   "outputs": [
    {
     "name": "stdout",
     "output_type": "stream",
     "text": [
      "banana\n"
     ]
    }
   ],
   "source": [
    "string_list = [\"apple\", \"banana\", \"cherry\"]\n",
    "longest_string = max(string_list, key=len)\n",
    "print(longest_string)\n"
   ]
  },
  {
   "cell_type": "code",
   "execution_count": 99,
   "id": "e910c650-d81e-4cfa-882c-33a40f94e991",
   "metadata": {},
   "outputs": [
    {
     "name": "stdout",
     "output_type": "stream",
     "text": [
      "apple\n"
     ]
    }
   ],
   "source": [
    "string_list = [\"apple\", \"banana\", \"cherry\"]\n",
    "longest_string = min(string_list, key=len)\n",
    "print(longest_string)\n"
   ]
  },
  {
   "cell_type": "code",
   "execution_count": 100,
   "id": "746c4845-8a3a-45a4-9654-a514ba19b876",
   "metadata": {},
   "outputs": [
    {
     "name": "stdout",
     "output_type": "stream",
     "text": [
      "[0, 1, 3, 6, 10]\n"
     ]
    }
   ],
   "source": [
    "n = 5\n",
    "triangular_numbers = [i * (i + 1) // 2 for i in range(n)]\n",
    "print(triangular_numbers)\n"
   ]
  },
  {
   "cell_type": "code",
   "execution_count": 101,
   "id": "db937e7b-1141-4b5c-80b7-0158e7fbbb02",
   "metadata": {},
   "outputs": [
    {
     "name": "stdout",
     "output_type": "stream",
     "text": [
      "True\n"
     ]
    }
   ],
   "source": [
    "def is_subsequence(sublist, list_to_check):\n",
    "    n = len(sublist)\n",
    "    return any(sublist == list_to_check[i:i + n] for i in range(len(list_to_check) - n + 1))\n",
    "\n",
    "list1 = [1, 2, 3, 4, 5]\n",
    "list2 = [0, 1, 2, 3, 4, 5, 6, 7]\n",
    "is_subseq = is_subsequence(list1, list2)\n",
    "print(is_subseq)\n"
   ]
  },
  {
   "cell_type": "code",
   "execution_count": 103,
   "id": "5f502aa0-02c0-4e9c-88c3-84e367f2d9aa",
   "metadata": {},
   "outputs": [
    {
     "name": "stdout",
     "output_type": "stream",
     "text": [
      "[1, 4, 3, 2, 5]\n"
     ]
    }
   ],
   "source": [
    "def swap_elements(lst, index1, index2):\n",
    "    lst[index1], lst[index2] = lst[index2], lst[index1]\n",
    "my_list = [1, 2, 3, 4, 5]\n",
    "index1 = 1  \n",
    "index2 = 3 \n",
    "swap_elements(my_list, index1, index2)\n",
    "print(my_list)\n"
   ]
  },
  {
   "cell_type": "markdown",
   "id": "7880c4a7-007e-4bb4-aec5-4f93600f1d18",
   "metadata": {},
   "source": [
    "Tuple Based Problems"
   ]
  },
  {
   "cell_type": "code",
   "execution_count": 118,
   "id": "74d53406-c0af-4760-87f8-36eb70345d67",
   "metadata": {},
   "outputs": [
    {
     "name": "stdout",
     "output_type": "stream",
     "text": [
      "(1, 2, 3, 4, 5)\n"
     ]
    },
    {
     "data": {
      "text/plain": [
       "tuple"
      ]
     },
     "execution_count": 118,
     "metadata": {},
     "output_type": "execute_result"
    }
   ],
   "source": [
    "tuple_1 = (1, 2, 3, 4, 5)\n",
    "print(tuple_1)\n",
    "type(tuple_1)"
   ]
  },
  {
   "cell_type": "code",
   "execution_count": 119,
   "id": "ccb99057-6abf-40ed-aae7-a613bcc72330",
   "metadata": {},
   "outputs": [
    {
     "name": "stdout",
     "output_type": "stream",
     "text": [
      "3\n"
     ]
    }
   ],
   "source": [
    "element_3 = tuple_1[2]\n",
    "print(element_3)"
   ]
  },
  {
   "cell_type": "code",
   "execution_count": 120,
   "id": "9c8fe4b4-7b6f-4278-858e-b010c98ad038",
   "metadata": {},
   "outputs": [
    {
     "name": "stdout",
     "output_type": "stream",
     "text": [
      "5\n"
     ]
    }
   ],
   "source": [
    "length_tuple = sum(1 for _ in tuple_1)\n",
    "print(length_tuple)"
   ]
  },
  {
   "cell_type": "code",
   "execution_count": 121,
   "id": "53e4cc0f-e654-4bf5-8865-161dc42cbadc",
   "metadata": {},
   "outputs": [
    {
     "name": "stdout",
     "output_type": "stream",
     "text": [
      "1\n"
     ]
    }
   ],
   "source": [
    "count_3 = tuple_1.count(3)\n",
    "print(count_3)"
   ]
  },
  {
   "cell_type": "code",
   "execution_count": 122,
   "id": "af434fb6-6af3-4128-a837-f6b799722367",
   "metadata": {},
   "outputs": [
    {
     "name": "stdout",
     "output_type": "stream",
     "text": [
      "3\n"
     ]
    }
   ],
   "source": [
    "index_4 = tuple_1.index(4)\n",
    "print(index_4)\n"
   ]
  },
  {
   "cell_type": "code",
   "execution_count": 124,
   "id": "1a3596a4-82bf-4786-8792-5d378f119e1f",
   "metadata": {},
   "outputs": [
    {
     "data": {
      "text/plain": [
       "True"
      ]
     },
     "execution_count": 124,
     "metadata": {},
     "output_type": "execute_result"
    }
   ],
   "source": [
    "element_exist = 3 in tuple_1\n",
    "element_exist"
   ]
  },
  {
   "cell_type": "code",
   "execution_count": 125,
   "id": "030ea08b-3f68-4a03-811b-8fa810a363bc",
   "metadata": {},
   "outputs": [
    {
     "name": "stdout",
     "output_type": "stream",
     "text": [
      "[1, 2, 3, 4, 5]\n"
     ]
    }
   ],
   "source": [
    "list_from_tuple = list(tuple_1)\n",
    "print(list_from_tuple)\n"
   ]
  },
  {
   "cell_type": "code",
   "execution_count": 126,
   "id": "2f7139a2-c777-48f3-9d5e-f60903e9f2a5",
   "metadata": {},
   "outputs": [
    {
     "name": "stdout",
     "output_type": "stream",
     "text": [
      "(1, 2, 3, 4, 5)\n"
     ]
    }
   ],
   "source": [
    "tuple_from_list = tuple(list_from_tuple)\n",
    "print(tuple_from_list)"
   ]
  },
  {
   "cell_type": "code",
   "execution_count": 127,
   "id": "385cd547-6a28-4fd0-b151-010cc84f02cd",
   "metadata": {},
   "outputs": [
    {
     "name": "stdout",
     "output_type": "stream",
     "text": [
      "1 2 3 4 5\n"
     ]
    }
   ],
   "source": [
    "a, b, c, d, e = tuple_1\n",
    "print(a, b, c, d, e)"
   ]
  },
  {
   "cell_type": "code",
   "execution_count": 128,
   "id": "08eb2fd5-4079-4574-9b8b-ec8b86b6e849",
   "metadata": {},
   "outputs": [
    {
     "name": "stdout",
     "output_type": "stream",
     "text": [
      "(2, 4, 6, 8, 10)\n"
     ]
    }
   ],
   "source": [
    "even_tuple = tuple(range(2, 11, 2))\n",
    "print(even_tuple)\n"
   ]
  },
  {
   "cell_type": "code",
   "execution_count": 129,
   "id": "776dd631-223b-4b62-be4b-ff717d5b0ea4",
   "metadata": {},
   "outputs": [
    {
     "name": "stdout",
     "output_type": "stream",
     "text": [
      "(1, 3, 5, 7, 9)\n"
     ]
    }
   ],
   "source": [
    "odd_tuple = tuple(range(1, 11, 2))\n",
    "print(odd_tuple)\n"
   ]
  },
  {
   "cell_type": "code",
   "execution_count": 130,
   "id": "58421536-fe83-45f0-b0c3-89d2ca769e73",
   "metadata": {},
   "outputs": [
    {
     "name": "stdout",
     "output_type": "stream",
     "text": [
      "(1, 2, 3, 4, 5, 2, 4, 6, 8, 10)\n"
     ]
    }
   ],
   "source": [
    "concatenated_tuple = tuple_1 + even_tuple\n",
    "print(concatenated_tuple)"
   ]
  },
  {
   "cell_type": "code",
   "execution_count": 132,
   "id": "e16428e9-eb86-437d-8fd1-2cd021c5d62c",
   "metadata": {},
   "outputs": [
    {
     "name": "stdout",
     "output_type": "stream",
     "text": [
      "(1, 2, 3, 4, 5, 1, 2, 3, 4, 5, 1, 2, 3, 4, 5)\n"
     ]
    }
   ],
   "source": [
    "repeated_tuple = tuple_1 * 3\n",
    "print(repeated_tuple)"
   ]
  },
  {
   "cell_type": "code",
   "execution_count": 133,
   "id": "c8cd8f97-6cb7-49a7-a350-d8e350e62e67",
   "metadata": {},
   "outputs": [
    {
     "name": "stdout",
     "output_type": "stream",
     "text": [
      "True\n"
     ]
    }
   ],
   "source": [
    "empty_tuple = ()\n",
    "is_empty = len(empty_tuple) == 0\n",
    "print(is_empty)"
   ]
  },
  {
   "cell_type": "code",
   "execution_count": 135,
   "id": "7facf5a8-00e4-4fdf-8812-0fbcdaa28ff2",
   "metadata": {},
   "outputs": [
    {
     "name": "stdout",
     "output_type": "stream",
     "text": [
      "((1, 2), (3, 4), (5, 6))\n"
     ]
    }
   ],
   "source": [
    "nested_tuple = ((1, 2), (3, 4), (5, 6))\n",
    "print(nested_tuple)"
   ]
  },
  {
   "cell_type": "code",
   "execution_count": 137,
   "id": "fe1af103-e6e2-482c-850a-29a97366f016",
   "metadata": {},
   "outputs": [
    {
     "name": "stdout",
     "output_type": "stream",
     "text": [
      "1\n"
     ]
    }
   ],
   "source": [
    "first_element = nested_tuple[0][0]\n",
    "print(first_element)\n"
   ]
  },
  {
   "cell_type": "code",
   "execution_count": 138,
   "id": "7b6df195-a34a-496e-89a9-6b513e0af984",
   "metadata": {},
   "outputs": [
    {
     "name": "stdout",
     "output_type": "stream",
     "text": [
      "(42,)\n"
     ]
    }
   ],
   "source": [
    "single_element_tuple = (42,)\n",
    "print(single_element_tuple)"
   ]
  },
  {
   "cell_type": "code",
   "execution_count": 139,
   "id": "d7685d28-5a0e-468c-8aac-f734e2252333",
   "metadata": {},
   "outputs": [
    {
     "name": "stdout",
     "output_type": "stream",
     "text": [
      "False\n"
     ]
    }
   ],
   "source": [
    "comparison_result = tuple_1 == even_tuple\n",
    "print(comparison_result)"
   ]
  },
  {
   "cell_type": "code",
   "execution_count": 140,
   "id": "1e9c9e12-d7f5-456d-881c-9515796ec21d",
   "metadata": {},
   "outputs": [
    {
     "name": "stdout",
     "output_type": "stream",
     "text": [
      "(2, 3, 4)\n"
     ]
    }
   ],
   "source": [
    "sliced_tuple = tuple_1[1:4]\n",
    "print(sliced_tuple)"
   ]
  },
  {
   "cell_type": "code",
   "execution_count": 141,
   "id": "d51aad98-e16f-48a0-ae2e-f663c175fc7b",
   "metadata": {},
   "outputs": [
    {
     "name": "stdout",
     "output_type": "stream",
     "text": [
      "5\n"
     ]
    }
   ],
   "source": [
    "max_value = max(tuple_1)\n",
    "print(max_value)"
   ]
  },
  {
   "cell_type": "code",
   "execution_count": 142,
   "id": "24c84e11-5576-47b8-9ee4-e5d97375c6aa",
   "metadata": {},
   "outputs": [
    {
     "name": "stdout",
     "output_type": "stream",
     "text": [
      "1\n"
     ]
    }
   ],
   "source": [
    "max_value = min(tuple_1)\n",
    "print(max_value)"
   ]
  },
  {
   "cell_type": "code",
   "execution_count": 144,
   "id": "e8b064a3-0fdb-44a5-bb0e-819aaadb5c37",
   "metadata": {},
   "outputs": [
    {
     "name": "stdout",
     "output_type": "stream",
     "text": [
      "('v', 'i', 'c', 'k', 'y')\n"
     ]
    }
   ],
   "source": [
    "string_to_tuple = tuple(\"vicky\")\n",
    "print(string_to_tuple)"
   ]
  },
  {
   "cell_type": "code",
   "execution_count": 147,
   "id": "8c2c939d-f35e-400f-95c6-3d926a3caeb7",
   "metadata": {},
   "outputs": [
    {
     "name": "stdout",
     "output_type": "stream",
     "text": [
      "vicky\n"
     ]
    }
   ],
   "source": [
    "tuple_to_string = \"\".join(string_to_tuple)\n",
    "print(tuple_to_string)"
   ]
  },
  {
   "cell_type": "code",
   "execution_count": 148,
   "id": "f9169dda-a31c-4f2b-9c2b-1e52e0777968",
   "metadata": {},
   "outputs": [
    {
     "name": "stdout",
     "output_type": "stream",
     "text": [
      "(1, 'hello', 3.14, True)\n"
     ]
    }
   ],
   "source": [
    "mixed_tuple = (1, \"hello\", 3.14, True)\n",
    "print(mixed_tuple)"
   ]
  },
  {
   "cell_type": "code",
   "execution_count": 149,
   "id": "c4641f62-df67-4729-9847-f5407c48af73",
   "metadata": {},
   "outputs": [
    {
     "name": "stdout",
     "output_type": "stream",
     "text": [
      "False\n"
     ]
    }
   ],
   "source": [
    "are_identical = tuple_1 == even_tuple\n",
    "print(are_identical)"
   ]
  },
  {
   "cell_type": "code",
   "execution_count": 150,
   "id": "f5522180-ff70-47f8-a0d2-28389f97282a",
   "metadata": {},
   "outputs": [
    {
     "name": "stdout",
     "output_type": "stream",
     "text": [
      "(1, 2, 3, 4, 5)\n"
     ]
    }
   ],
   "source": [
    "sorted_tuple = tuple(sorted(tuple_1))\n",
    "print(sorted_tuple)"
   ]
  },
  {
   "cell_type": "code",
   "execution_count": 151,
   "id": "4437b7db-63b5-4d5c-b4fa-1be98f6ed6bd",
   "metadata": {},
   "outputs": [
    {
     "name": "stdout",
     "output_type": "stream",
     "text": [
      "('1', '2', '3')\n"
     ]
    }
   ],
   "source": [
    "int_tuple = (1, 2, 3)\n",
    "str_tuple = tuple(str(x) for x in int_tuple)\n",
    "print(str_tuple)"
   ]
  },
  {
   "cell_type": "code",
   "execution_count": 152,
   "id": "0f336b52-5a19-4f05-9f0d-64958f11364b",
   "metadata": {},
   "outputs": [
    {
     "name": "stdout",
     "output_type": "stream",
     "text": [
      "(1, 2, 3)\n"
     ]
    }
   ],
   "source": [
    "str_tuple = (\"1\", \"2\", \"3\")\n",
    "int_tuple = tuple(int(x) for x in str_tuple)\n",
    "print(int_tuple)"
   ]
  },
  {
   "cell_type": "code",
   "execution_count": 153,
   "id": "f7039b8d-84ce-49fc-9d2f-9e847b712f4a",
   "metadata": {},
   "outputs": [
    {
     "name": "stdout",
     "output_type": "stream",
     "text": [
      "(1, 2, 3, 4, 5, 2, 4, 6, 8, 10)\n"
     ]
    }
   ],
   "source": [
    "merged_tuple = tuple_1 + even_tuple\n",
    "print(merged_tuple)\n",
    "\n"
   ]
  },
  {
   "cell_type": "code",
   "execution_count": 154,
   "id": "ce1b7950-20f9-4444-bfae-7fc4ae85f704",
   "metadata": {},
   "outputs": [
    {
     "name": "stdout",
     "output_type": "stream",
     "text": [
      "(1, 2, 3, 4, 5, 6)\n"
     ]
    }
   ],
   "source": [
    "nested_tuple = ((1, 2), (3, 4), (5, 6))\n",
    "flattened_tuple = tuple(x for sub_tuple in nested_tuple for x in sub_tuple)\n",
    "print(flattened_tuple)\n"
   ]
  },
  {
   "cell_type": "code",
   "execution_count": 155,
   "id": "32481fef-83bc-435b-b08b-575cf0edc431",
   "metadata": {},
   "outputs": [
    {
     "name": "stdout",
     "output_type": "stream",
     "text": [
      "(2, 3, 5, 7, 11)\n"
     ]
    }
   ],
   "source": [
    "prime_tuple = (2, 3, 5, 7, 11)\n",
    "print(prime_tuple)"
   ]
  },
  {
   "cell_type": "code",
   "execution_count": 156,
   "id": "21da87c3-b1fb-41ec-9a65-093104e24dbb",
   "metadata": {},
   "outputs": [
    {
     "name": "stdout",
     "output_type": "stream",
     "text": [
      "False\n"
     ]
    }
   ],
   "source": [
    "is_palindrome = tuple_1 == tuple_1[::-1]\n",
    "print(is_palindrome)"
   ]
  },
  {
   "cell_type": "code",
   "execution_count": 157,
   "id": "13c7fad8-a99e-4949-81b7-17ed2d61bdf1",
   "metadata": {},
   "outputs": [
    {
     "name": "stdout",
     "output_type": "stream",
     "text": [
      "(1, 4, 9, 16, 25)\n"
     ]
    }
   ],
   "source": [
    "squares_tuple = tuple(x ** 2 for x in range(1, 6))\n",
    "print(squares_tuple)"
   ]
  },
  {
   "cell_type": "code",
   "execution_count": 158,
   "id": "f86d6b6b-27a5-4ff3-be7f-328c4c315622",
   "metadata": {},
   "outputs": [
    {
     "name": "stdout",
     "output_type": "stream",
     "text": [
      "(1, 3, 5)\n"
     ]
    }
   ],
   "source": [
    "filtered_tuple = tuple(x for x in tuple_1 if x % 2 != 0)\n",
    "print(filtered_tuple)"
   ]
  },
  {
   "cell_type": "code",
   "execution_count": 159,
   "id": "6f9e1b7c-9d53-4db2-8275-b7c3c7f53398",
   "metadata": {},
   "outputs": [
    {
     "name": "stdout",
     "output_type": "stream",
     "text": [
      "(2, 4, 6, 8, 10)\n"
     ]
    }
   ],
   "source": [
    "multiplied_tuple = tuple(x * 2 for x in tuple_1)\n",
    "print(multiplied_tuple)"
   ]
  },
  {
   "cell_type": "code",
   "execution_count": 160,
   "id": "9424c7ea-e836-412a-9f2a-3a68c37d6edc",
   "metadata": {},
   "outputs": [
    {
     "name": "stdout",
     "output_type": "stream",
     "text": [
      "(6, 8, 3, 4, 6)\n"
     ]
    }
   ],
   "source": [
    "random_tuple = tuple(random.randint(1, 10) for _ in range(5))\n",
    "print(random_tuple)"
   ]
  },
  {
   "cell_type": "code",
   "execution_count": 161,
   "id": "b08c27b8-ae25-491a-9362-5cb6286179b3",
   "metadata": {},
   "outputs": [
    {
     "name": "stdout",
     "output_type": "stream",
     "text": [
      "True\n"
     ]
    }
   ],
   "source": [
    "is_sorted = all(tuple_1[i] <= tuple_1[i + 1] for i in range(len(tuple_1) - 1))\n",
    "print(is_sorted)\n"
   ]
  },
  {
   "cell_type": "code",
   "execution_count": 162,
   "id": "da682637-7070-49ad-a207-ad9d16cb35e8",
   "metadata": {},
   "outputs": [
    {
     "name": "stdout",
     "output_type": "stream",
     "text": [
      "(3, 4, 5, 1, 2)\n"
     ]
    }
   ],
   "source": [
    "n = 2\n",
    "rotated_left_tuple = tuple_1[n:] + tuple_1[:n]\n",
    "print(rotated_left_tuple)"
   ]
  },
  {
   "cell_type": "code",
   "execution_count": 163,
   "id": "308eeb09-d243-442f-a95f-a014954cc03a",
   "metadata": {},
   "outputs": [
    {
     "name": "stdout",
     "output_type": "stream",
     "text": [
      "(4, 5, 1, 2, 3)\n"
     ]
    }
   ],
   "source": [
    "rotated_right_tuple = tuple_1[-n:] + tuple_1[:-n]\n",
    "print(rotated_right_tuple)\n"
   ]
  },
  {
   "cell_type": "code",
   "execution_count": 164,
   "id": "abd98ca8-416e-484b-a21d-81b5666d0673",
   "metadata": {},
   "outputs": [
    {
     "name": "stdout",
     "output_type": "stream",
     "text": [
      "(0, 1, 1, 2, 3)\n"
     ]
    }
   ],
   "source": [
    "fibonacci_tuple = (0, 1)\n",
    "while len(fibonacci_tuple) < 5:\n",
    "    next_fibonacci = fibonacci_tuple[-1] + fibonacci_tuple[-2]\n",
    "    fibonacci_tuple += (next_fibonacci,)\n",
    "print(fibonacci_tuple)\n"
   ]
  },
  {
   "cell_type": "code",
   "execution_count": 168,
   "id": "74fe65ff-396a-41f8-80ab-d517c867fc54",
   "metadata": {},
   "outputs": [
    {
     "name": "stdin",
     "output_type": "stream",
     "text": [
      "Enter elements separated by commas:  1,8,6,5\n"
     ]
    },
    {
     "name": "stdout",
     "output_type": "stream",
     "text": [
      "(1, 8, 6, 5)\n"
     ]
    }
   ],
   "source": [
    "user_input = input(\"Enter elements separated by commas: \")\n",
    "user_tuple = tuple(map(int, user_input.split(',')))\n",
    "print(user_tuple)\n"
   ]
  },
  {
   "cell_type": "code",
   "execution_count": 169,
   "id": "0812e4f9-95d8-4311-91d7-0b450d25a562",
   "metadata": {},
   "outputs": [
    {
     "name": "stdout",
     "output_type": "stream",
     "text": [
      "(1, 4, 3, 2, 5)\n"
     ]
    }
   ],
   "source": [
    "tuple_to_swap = (1, 2, 3, 4, 5)\n",
    "swap_indices = 1, 3\n",
    "tuple_list = list(tuple_to_swap)\n",
    "tuple_list[swap_indices[0]], tuple_list[swap_indices[1]] = tuple_list[swap_indices[1]], tuple_list[swap_indices[0]]\n",
    "swapped_tuple = tuple(tuple_list)\n",
    "print(swapped_tuple)\n"
   ]
  },
  {
   "cell_type": "code",
   "execution_count": 170,
   "id": "b50bcd1b-2855-4301-bb77-d183a4ec6e5e",
   "metadata": {},
   "outputs": [
    {
     "name": "stdout",
     "output_type": "stream",
     "text": [
      "(5, 4, 3, 2, 1)\n"
     ]
    }
   ],
   "source": [
    "reversed_tuple = tuple_1[::-1]\n",
    "print(reversed_tuple)"
   ]
  },
  {
   "cell_type": "code",
   "execution_count": 171,
   "id": "92713d91-a085-4500-92da-35334814ad76",
   "metadata": {},
   "outputs": [
    {
     "name": "stdout",
     "output_type": "stream",
     "text": [
      "(1, 2, 4, 8, 16)\n"
     ]
    }
   ],
   "source": [
    "n = 5\n",
    "powers_of_2_tuple = tuple(2 ** i for i in range(n))\n",
    "print(powers_of_2_tuple)"
   ]
  },
  {
   "cell_type": "code",
   "execution_count": 172,
   "id": "fa4d35d8-d3cc-4a77-be01-f42181cf168f",
   "metadata": {},
   "outputs": [
    {
     "name": "stdout",
     "output_type": "stream",
     "text": [
      "elderberry\n"
     ]
    }
   ],
   "source": [
    "string_tuple = (\"apple\", \"banana\", \"cherry\", \"date\", \"elderberry\")\n",
    "longest_string = max(string_tuple, key=len)\n",
    "print(longest_string)\n"
   ]
  },
  {
   "cell_type": "code",
   "execution_count": 173,
   "id": "c7c38059-bb1d-4177-a634-c478e48dc379",
   "metadata": {},
   "outputs": [
    {
     "name": "stdout",
     "output_type": "stream",
     "text": [
      "date\n"
     ]
    }
   ],
   "source": [
    "shortest_string = min(string_tuple, key=len)\n",
    "print(shortest_string)"
   ]
  },
  {
   "cell_type": "code",
   "execution_count": 174,
   "id": "18016688-628c-499f-bc77-7d2a580f09d5",
   "metadata": {},
   "outputs": [
    {
     "name": "stdout",
     "output_type": "stream",
     "text": [
      "(1, 3, 6, 10, 15)\n"
     ]
    }
   ],
   "source": [
    "n = 5\n",
    "triangular_numbers_tuple = tuple((i * (i + 1)) // 2 for i in range(1, n + 1))\n",
    "print(triangular_numbers_tuple)"
   ]
  },
  {
   "cell_type": "code",
   "execution_count": 175,
   "id": "c8df9184-9c38-4747-9399-043f249f500f",
   "metadata": {},
   "outputs": [
    {
     "name": "stdout",
     "output_type": "stream",
     "text": [
      "True\n"
     ]
    }
   ],
   "source": [
    "sub_tuple = (3, 4)\n",
    "contains_subsequence = any(sub_tuple == tuple_1[i:i+len(sub_tuple)] for i in range(len(tuple_1) - len(sub_tuple) + 1))\n",
    "print(contains_subsequence)\n"
   ]
  },
  {
   "cell_type": "code",
   "execution_count": 176,
   "id": "741eece5-3762-4315-bb0f-6e3ca1495c43",
   "metadata": {},
   "outputs": [
    {
     "name": "stdout",
     "output_type": "stream",
     "text": [
      "(1, 0, 1, 0, 1, 0, 1, 0)\n"
     ]
    }
   ],
   "source": [
    "n = 8\n",
    "alternating_tuple = tuple(1 if i % 2 == 0 else 0 for i in range(n))\n",
    "print(alternating_tuple)"
   ]
  },
  {
   "cell_type": "markdown",
   "id": "d88f77e1-e00e-4a60-860b-de8e184ea165",
   "metadata": {},
   "source": [
    "Set Based Problem"
   ]
  },
  {
   "cell_type": "code",
   "execution_count": 3,
   "id": "fd34b90f-7bba-44ba-b8a4-06b45df36294",
   "metadata": {},
   "outputs": [
    {
     "name": "stdout",
     "output_type": "stream",
     "text": [
      "{1, 2, 3, 4, 5}\n"
     ]
    }
   ],
   "source": [
    "my_set = set(range(1, 6))\n",
    "print(my_set)"
   ]
  },
  {
   "cell_type": "code",
   "execution_count": 4,
   "id": "fbd4ca2d-8b8b-4129-8058-3bd77cb7ed46",
   "metadata": {},
   "outputs": [
    {
     "name": "stdout",
     "output_type": "stream",
     "text": [
      "{1, 2, 3, 4, 5, 6}\n"
     ]
    }
   ],
   "source": [
    "my_set.add(6)\n",
    "print(my_set)"
   ]
  },
  {
   "cell_type": "code",
   "execution_count": 5,
   "id": "8abd1468-c415-4e2e-a933-4f2aed435332",
   "metadata": {},
   "outputs": [
    {
     "name": "stdout",
     "output_type": "stream",
     "text": [
      "{1, 3, 4, 5, 6}\n"
     ]
    }
   ],
   "source": [
    "my_set.remove(2)\n",
    "print(my_set)\n"
   ]
  },
  {
   "cell_type": "code",
   "execution_count": 6,
   "id": "8ab61e3d-2db6-4590-844f-cc7a986e99e8",
   "metadata": {},
   "outputs": [
    {
     "name": "stdout",
     "output_type": "stream",
     "text": [
      "True\n"
     ]
    }
   ],
   "source": [
    "element_exists = 3 in my_set\n",
    "print(element_exists)\n"
   ]
  },
  {
   "cell_type": "code",
   "execution_count": 7,
   "id": "1465fad6-378d-4bf2-9643-359c19c11c63",
   "metadata": {},
   "outputs": [
    {
     "name": "stdout",
     "output_type": "stream",
     "text": [
      "5\n"
     ]
    }
   ],
   "source": [
    "set_length = sum(1 for _ in my_set)\n",
    "print(set_length)"
   ]
  },
  {
   "cell_type": "code",
   "execution_count": 8,
   "id": "4aa7e343-06c7-4dab-9585-b72584535612",
   "metadata": {},
   "outputs": [
    {
     "name": "stdout",
     "output_type": "stream",
     "text": [
      "set()\n"
     ]
    }
   ],
   "source": [
    "my_set.clear()\n",
    "print(my_set)"
   ]
  },
  {
   "cell_type": "code",
   "execution_count": 9,
   "id": "cf96045d-9fdb-4d2d-b316-07a9d847b6de",
   "metadata": {},
   "outputs": [
    {
     "data": {
      "text/plain": [
       "set()"
      ]
     },
     "execution_count": 9,
     "metadata": {},
     "output_type": "execute_result"
    }
   ],
   "source": [
    "my_set"
   ]
  },
  {
   "cell_type": "code",
   "execution_count": 10,
   "id": "71061b3b-b5b7-4d46-a739-1c841ea89915",
   "metadata": {},
   "outputs": [
    {
     "name": "stdout",
     "output_type": "stream",
     "text": [
      "{2, 4, 6, 8, 10}\n"
     ]
    }
   ],
   "source": [
    "even_set = set(i for i in range(2, 11, 2))\n",
    "print(even_set)\n"
   ]
  },
  {
   "cell_type": "code",
   "execution_count": 11,
   "id": "ed0148f8-3df7-48fc-a346-0c27766e992a",
   "metadata": {},
   "outputs": [
    {
     "name": "stdout",
     "output_type": "stream",
     "text": [
      "{1, 3, 5, 7, 9}\n"
     ]
    }
   ],
   "source": [
    "odd_set = set(i for i in range(1, 11, 2))\n",
    "print(odd_set)\n"
   ]
  },
  {
   "cell_type": "code",
   "execution_count": 4,
   "id": "46833191-1547-4820-a9be-9fd17122befe",
   "metadata": {},
   "outputs": [
    {
     "name": "stdout",
     "output_type": "stream",
     "text": [
      "{1, 2, 3, 4, 5, 6, 7, 8, 9}\n"
     ]
    }
   ],
   "source": [
    "set1 = set(range(1, 6))\n",
    "set2 = set(range(5, 10))\n",
    "union_set = set1.union(set2)\n",
    "print(union_set)"
   ]
  },
  {
   "cell_type": "code",
   "execution_count": 18,
   "id": "77fc0d40-0ca9-47bc-be03-e17233f6521c",
   "metadata": {},
   "outputs": [
    {
     "name": "stdout",
     "output_type": "stream",
     "text": [
      "{5}\n"
     ]
    }
   ],
   "source": [
    "intersection_set = set1.intersection(set2)\n",
    "print(intersection_set)"
   ]
  },
  {
   "cell_type": "code",
   "execution_count": 19,
   "id": "077f3ebe-b480-49d7-bd6b-00ac5a70cfb6",
   "metadata": {},
   "outputs": [
    {
     "name": "stdout",
     "output_type": "stream",
     "text": [
      "{1, 2, 3, 4}\n"
     ]
    }
   ],
   "source": [
    "difference_set = set1.difference(set2)\n",
    "print(difference_set)\n"
   ]
  },
  {
   "cell_type": "code",
   "execution_count": 21,
   "id": "f676b4f6-299c-446f-bbcb-73044c3d7f4f",
   "metadata": {},
   "outputs": [
    {
     "name": "stdout",
     "output_type": "stream",
     "text": [
      "False\n"
     ]
    }
   ],
   "source": [
    "is_subset = set1.issubset(set2)\n",
    "print(is_subset)"
   ]
  },
  {
   "cell_type": "code",
   "execution_count": 22,
   "id": "a3d1ff48-e0fe-4d99-bae3-54700cd721d0",
   "metadata": {},
   "outputs": [
    {
     "name": "stdout",
     "output_type": "stream",
     "text": [
      "False\n"
     ]
    }
   ],
   "source": [
    "is_subset = set1.issuperset(set2)\n",
    "print(is_subset)"
   ]
  },
  {
   "cell_type": "code",
   "execution_count": 24,
   "id": "f4001846-2c0d-4531-8c08-d2adc1ddfb46",
   "metadata": {},
   "outputs": [
    {
     "name": "stdout",
     "output_type": "stream",
     "text": [
      "{1, 2, 3, 4, 5}\n"
     ]
    }
   ],
   "source": [
    "list_to_set = set(set1)\n",
    "print(list_to_set)"
   ]
  },
  {
   "cell_type": "code",
   "execution_count": 28,
   "id": "792e438e-637b-4c62-8dc8-fdffedaf4ce8",
   "metadata": {},
   "outputs": [
    {
     "name": "stdout",
     "output_type": "stream",
     "text": [
      "[5, 6, 7, 8, 9]\n"
     ]
    },
    {
     "data": {
      "text/plain": [
       "list"
      ]
     },
     "execution_count": 28,
     "metadata": {},
     "output_type": "execute_result"
    }
   ],
   "source": [
    "set_to_list = list(set2)\n",
    "print(set_to_list)\n",
    "type(set_to_list)"
   ]
  },
  {
   "cell_type": "code",
   "execution_count": 32,
   "id": "d6c0400a-0654-45db-b607-a1a6384df65e",
   "metadata": {},
   "outputs": [
    {
     "name": "stdout",
     "output_type": "stream",
     "text": [
      "7\n"
     ]
    }
   ],
   "source": [
    "random_element = set2.pop()\n",
    "print(random_element)"
   ]
  },
  {
   "cell_type": "code",
   "execution_count": 35,
   "id": "4d4c4750-6b7a-4cf2-a807-2bee984b1f81",
   "metadata": {},
   "outputs": [
    {
     "name": "stdout",
     "output_type": "stream",
     "text": [
      "{2, 3, 5}\n"
     ]
    }
   ],
   "source": [
    "element_to_pop = 1\n",
    "set1.discard(element_to_pop)\n",
    "print(set1)"
   ]
  },
  {
   "cell_type": "code",
   "execution_count": 36,
   "id": "b2bd2781-f229-4c8f-ab40-fdd21c7d4ce6",
   "metadata": {},
   "outputs": [
    {
     "name": "stdout",
     "output_type": "stream",
     "text": [
      "True\n"
     ]
    }
   ],
   "source": [
    "no_common_elements = set1.isdisjoint(set2)\n",
    "print(no_common_elements)"
   ]
  },
  {
   "cell_type": "code",
   "execution_count": 37,
   "id": "d05b4911-82fb-44e3-aca7-05032bc1d51f",
   "metadata": {},
   "outputs": [
    {
     "name": "stdout",
     "output_type": "stream",
     "text": [
      "{2, 3, 5, 8, 9}\n"
     ]
    }
   ],
   "source": [
    "symmetric_difference = set1.symmetric_difference(set2)\n",
    "print(symmetric_difference)"
   ]
  },
  {
   "cell_type": "code",
   "execution_count": 40,
   "id": "41f9beee-8398-402a-9a96-131e062de572",
   "metadata": {},
   "outputs": [
    {
     "name": "stdout",
     "output_type": "stream",
     "text": [
      "{2, 3, 5, 8, 9}\n"
     ]
    }
   ],
   "source": [
    "set1.update(set2)\n",
    "print(set1)"
   ]
  },
  {
   "cell_type": "code",
   "execution_count": 39,
   "id": "8546f6ff-4159-480f-b39c-e5d6a8c6eeec",
   "metadata": {},
   "outputs": [
    {
     "name": "stdout",
     "output_type": "stream",
     "text": [
      "{2, 3, 5, 7, 11}\n"
     ]
    }
   ],
   "source": [
    "prime_set = {2, 3, 5, 7, 11}\n",
    "print(prime_set)"
   ]
  },
  {
   "cell_type": "code",
   "execution_count": 41,
   "id": "38d816d1-dde7-46ca-8e81-c80731105679",
   "metadata": {},
   "outputs": [
    {
     "name": "stdout",
     "output_type": "stream",
     "text": [
      "False\n"
     ]
    }
   ],
   "source": [
    "are_identical = set1 == set2\n",
    "print(are_identical)"
   ]
  },
  {
   "cell_type": "code",
   "execution_count": 44,
   "id": "29296438-aaa4-49b6-9d19-36a1472da7ed",
   "metadata": {},
   "outputs": [
    {
     "name": "stdout",
     "output_type": "stream",
     "text": [
      "frozenset({8, 9})\n"
     ]
    }
   ],
   "source": [
    "frozen_set = frozenset(set2)\n",
    "print(frozen_set)"
   ]
  },
  {
   "cell_type": "code",
   "execution_count": 45,
   "id": "e0b3bdc1-0948-4ec1-807a-8d6090812cf9",
   "metadata": {},
   "outputs": [
    {
     "name": "stdout",
     "output_type": "stream",
     "text": [
      "False\n"
     ]
    }
   ],
   "source": [
    "are_disjoint = set1.isdisjoint(set2)\n",
    "print(are_disjoint)"
   ]
  },
  {
   "cell_type": "code",
   "execution_count": 46,
   "id": "e33d837a-f345-4514-b4de-7438bfd84cbe",
   "metadata": {},
   "outputs": [
    {
     "name": "stdout",
     "output_type": "stream",
     "text": [
      "{1, 4, 9, 16, 25}\n"
     ]
    }
   ],
   "source": [
    "squares_set = {x ** 2 for x in range(1, 6)}\n",
    "print(squares_set)\n"
   ]
  },
  {
   "cell_type": "code",
   "execution_count": 50,
   "id": "0749e935-b14e-422f-a010-003c3e25a4ec",
   "metadata": {},
   "outputs": [
    {
     "name": "stdout",
     "output_type": "stream",
     "text": [
      "{9, 3, 5}\n"
     ]
    }
   ],
   "source": [
    "filtered_set = {x for x in set1 if x % 2 != 0}\n",
    "print(filtered_set)"
   ]
  },
  {
   "cell_type": "code",
   "execution_count": 49,
   "id": "459403c2-e413-43a3-b4dd-d9a065c0bf48",
   "metadata": {},
   "outputs": [
    {
     "name": "stdout",
     "output_type": "stream",
     "text": [
      "{4, 6, 10, 16, 18}\n"
     ]
    }
   ],
   "source": [
    "doubled_set = {x * 2 for x in set1}\n",
    "print(doubled_set)"
   ]
  },
  {
   "cell_type": "code",
   "execution_count": 53,
   "id": "b2cf6057-f59a-4e6b-92b2-fe91dd488265",
   "metadata": {},
   "outputs": [
    {
     "name": "stdout",
     "output_type": "stream",
     "text": [
      "{97, 35, 7, 28, 16, 55, 22, 87, 24, 60}\n"
     ]
    }
   ],
   "source": [
    "import random \n",
    "random_set = {random.randint(1, 100) for _ in range(10)}\n",
    "print(random_set)"
   ]
  },
  {
   "cell_type": "code",
   "execution_count": 55,
   "id": "bf9e82e6-e6eb-40f0-885a-6a7b6e73befa",
   "metadata": {},
   "outputs": [
    {
     "name": "stdout",
     "output_type": "stream",
     "text": [
      "False\n"
     ]
    }
   ],
   "source": [
    "is_empty = len(set2) == 0\n",
    "print(is_empty)"
   ]
  },
  {
   "cell_type": "code",
   "execution_count": 56,
   "id": "3ac903e5-50b3-4df7-9ea4-7e1a6e30f5e6",
   "metadata": {},
   "outputs": [
    {
     "name": "stdout",
     "output_type": "stream",
     "text": [
      "{frozenset({3, 4}), frozenset({1, 2})}\n"
     ]
    }
   ],
   "source": [
    "nested_set = {frozenset({1, 2}), frozenset({3, 4})}\n",
    "print(nested_set)"
   ]
  },
  {
   "cell_type": "code",
   "execution_count": 59,
   "id": "2a9c4e25-9d5c-4ef4-8596-18f126c00987",
   "metadata": {},
   "outputs": [
    {
     "name": "stdout",
     "output_type": "stream",
     "text": [
      "{2, 5, 8, 9}\n"
     ]
    }
   ],
   "source": [
    "element_to_discard = 3\n",
    "set1.discard(element_to_discard)\n",
    "print(set1)"
   ]
  },
  {
   "cell_type": "code",
   "execution_count": 60,
   "id": "6310797c-3e2e-4505-9c97-a3396deccace",
   "metadata": {},
   "outputs": [
    {
     "name": "stdout",
     "output_type": "stream",
     "text": [
      "False True False\n"
     ]
    }
   ],
   "source": [
    "is_subset = set1.issubset(set2)\n",
    "is_superset = set1.issuperset(set2)\n",
    "is_equal = set1 == set2\n",
    "print(is_subset, is_superset, is_equal)"
   ]
  },
  {
   "cell_type": "code",
   "execution_count": 62,
   "id": "09e72ec7-b275-48b1-b9d4-edd2668da654",
   "metadata": {},
   "outputs": [
    {
     "name": "stdout",
     "output_type": "stream",
     "text": [
      "{'e', 'n', 'r', 's', 'h', 'a', 'g', 'v', 'w', 'i'}\n"
     ]
    }
   ],
   "source": [
    "string_to_set = set(\"vigneshwaran\")\n",
    "print(string_to_set)"
   ]
  },
  {
   "cell_type": "code",
   "execution_count": 63,
   "id": "dffedf3f-3635-4ee2-bb5a-544e598fca60",
   "metadata": {},
   "outputs": [
    {
     "name": "stdout",
     "output_type": "stream",
     "text": [
      "{1, 2, 3, 4, 5}\n"
     ]
    }
   ],
   "source": [
    "string_set = {\"1\", \"2\", \"3\", \"4\", \"5\"}\n",
    "int_set = {int(x) for x in string_set}\n",
    "print(int_set)"
   ]
  },
  {
   "cell_type": "code",
   "execution_count": 64,
   "id": "28d30aa7-1f1c-44e6-a561-8034246def8a",
   "metadata": {},
   "outputs": [
    {
     "name": "stdout",
     "output_type": "stream",
     "text": [
      "{'2', '4', '1', '5', '3'}\n"
     ]
    }
   ],
   "source": [
    "int_set = {1, 2, 3, 4, 5}\n",
    "string_set = {str(x) for x in int_set}\n",
    "print(string_set)\n"
   ]
  },
  {
   "cell_type": "code",
   "execution_count": 66,
   "id": "fe95259e-dd8d-4df8-8775-42de4dddb63f",
   "metadata": {},
   "outputs": [
    {
     "name": "stdout",
     "output_type": "stream",
     "text": [
      "{1, 2, 3, 4, 5}\n"
     ]
    }
   ],
   "source": [
    "tuple_to_set = set(int_set)\n",
    "print(tuple_to_set)"
   ]
  },
  {
   "cell_type": "code",
   "execution_count": 68,
   "id": "30a219a6-b1e4-4bed-a53a-c191884bab1b",
   "metadata": {},
   "outputs": [
    {
     "name": "stdout",
     "output_type": "stream",
     "text": [
      "(8, 9)\n"
     ]
    }
   ],
   "source": [
    "set_to_tuple = tuple(set2)\n",
    "print(set_to_tuple)"
   ]
  },
  {
   "cell_type": "code",
   "execution_count": 70,
   "id": "d7d40b36-be64-49dd-8066-3e643ba7cb3a",
   "metadata": {},
   "outputs": [
    {
     "name": "stdout",
     "output_type": "stream",
     "text": [
      "9\n"
     ]
    }
   ],
   "source": [
    "max_value = max(set1)\n",
    "print(max_value)"
   ]
  },
  {
   "cell_type": "code",
   "execution_count": 71,
   "id": "8a33d216-8d8d-455c-8160-96947a8b265a",
   "metadata": {},
   "outputs": [
    {
     "data": {
      "text/plain": [
       "8"
      ]
     },
     "execution_count": 71,
     "metadata": {},
     "output_type": "execute_result"
    }
   ],
   "source": [
    "min_value = min(set2)\n",
    "min_value"
   ]
  },
  {
   "cell_type": "code",
   "execution_count": 72,
   "id": "d941d7fb-0d08-4f50-91d2-7d5aebd03f28",
   "metadata": {},
   "outputs": [
    {
     "name": "stdin",
     "output_type": "stream",
     "text": [
      "Enter elements separated by spaces:  2 5 9 6 7 5 \n"
     ]
    },
    {
     "name": "stdout",
     "output_type": "stream",
     "text": [
      "{'2', '6', '5', '7', '9'}\n"
     ]
    }
   ],
   "source": [
    "input_set = set(input(\"Enter elements separated by spaces: \").split())\n",
    "print(input_set)\n",
    "\n"
   ]
  },
  {
   "cell_type": "code",
   "execution_count": 73,
   "id": "4a441911-651e-44a2-9ea0-2fa3186e52e6",
   "metadata": {},
   "outputs": [
    {
     "name": "stdout",
     "output_type": "stream",
     "text": [
      "False\n"
     ]
    }
   ],
   "source": [
    "intersection_empty = set1.isdisjoint(set2)\n",
    "print(intersection_empty)"
   ]
  },
  {
   "cell_type": "code",
   "execution_count": 1,
   "id": "e89e1e91-01a8-42e9-b705-82cc8bc317f4",
   "metadata": {},
   "outputs": [
    {
     "name": "stdout",
     "output_type": "stream",
     "text": [
      "0 1 1 2 3 5 8 "
     ]
    }
   ],
   "source": [
    "def fibonacci_numbers(num):\n",
    "\tif num == 0:\n",
    "\t\treturn 0\n",
    "\telif num == 1:\n",
    "\t\treturn 1\n",
    "\telse:\n",
    "\t\treturn fibonacci_numbers(num-2)+fibonacci_numbers(num-1)\n",
    "n = 7\n",
    "for i in range(0, n):\n",
    "\tprint(fibonacci_numbers(i), end=\" \")"
   ]
  },
  {
   "cell_type": "code",
   "execution_count": 2,
   "id": "3eda8a95-5d5b-4a4b-966a-17f9776eea92",
   "metadata": {},
   "outputs": [
    {
     "name": "stdout",
     "output_type": "stream",
     "text": [
      "[1, 2, 3, 4, 5]\n"
     ]
    }
   ],
   "source": [
    "list_with_duplicates = [1, 2, 2, 3, 4, 4, 5]\n",
    "deduplicated_list = list(set(list_with_duplicates))\n",
    "print(deduplicated_list)"
   ]
  },
  {
   "cell_type": "code",
   "execution_count": 5,
   "id": "f7e3b1ce-5a24-408e-9e16-e8179b23f447",
   "metadata": {},
   "outputs": [
    {
     "name": "stdout",
     "output_type": "stream",
     "text": [
      "False\n"
     ]
    }
   ],
   "source": [
    "same_elements = set1 == set2\n",
    "print(same_elements)"
   ]
  },
  {
   "cell_type": "code",
   "execution_count": 5,
   "id": "3144b139-f491-4006-9e3b-8b4ca66e8f52",
   "metadata": {},
   "outputs": [
    {
     "name": "stdout",
     "output_type": "stream",
     "text": [
      "{1, 2, 4, 8, 16}\n"
     ]
    }
   ],
   "source": [
    "n = 5\n",
    "powers_of_2_set = {2 ** i for i in range(n)}\n",
    "print(powers_of_2_set)"
   ]
  },
  {
   "cell_type": "code",
   "execution_count": 7,
   "id": "d9ec44ba-e4c4-4dbc-9c14-c008b8dd7bce",
   "metadata": {},
   "outputs": [
    {
     "name": "stdout",
     "output_type": "stream",
     "text": [
      "{1, 2, 3, 4, 5}\n"
     ]
    }
   ],
   "source": [
    "common_elements = set1.intersection(set1)\n",
    "print(common_elements)"
   ]
  },
  {
   "cell_type": "code",
   "execution_count": 8,
   "id": "b18111f0-2341-46a8-8ea2-683a9e6bb008",
   "metadata": {},
   "outputs": [
    {
     "name": "stdout",
     "output_type": "stream",
     "text": [
      "{1, 3, 6, 10, 15}\n"
     ]
    }
   ],
   "source": [
    "n = 5\n",
    "triangular_numbers_set = {(i * (i + 1)) // 2 for i in range(1, n + 1)}\n",
    "print(triangular_numbers_set)"
   ]
  },
  {
   "cell_type": "code",
   "execution_count": 10,
   "id": "476c96eb-dc12-4a18-b1e8-2ea3da689341",
   "metadata": {},
   "outputs": [
    {
     "name": "stdout",
     "output_type": "stream",
     "text": [
      "False\n"
     ]
    }
   ],
   "source": [
    "is_subset = set1.issubset(set2)\n",
    "print(is_subset)"
   ]
  },
  {
   "cell_type": "code",
   "execution_count": 11,
   "id": "2b36df34-086d-4071-b4dd-371fc1adbc8b",
   "metadata": {},
   "outputs": [
    {
     "name": "stdout",
     "output_type": "stream",
     "text": [
      "{0, 1}\n"
     ]
    }
   ],
   "source": [
    "n = 8\n",
    "alternating_set = {1 if i % 2 == 0 else 0 for i in range(n)}\n",
    "print(alternating_set)"
   ]
  },
  {
   "cell_type": "code",
   "execution_count": 13,
   "id": "a4dc12a7-71a0-47fa-a9e2-56ea3be520af",
   "metadata": {},
   "outputs": [
    {
     "name": "stdout",
     "output_type": "stream",
     "text": [
      "{1, 2, 3, 4, 5, 6, 7, 8, 9, 12, 13, 14, 15, 16}\n"
     ]
    }
   ],
   "source": [
    "set3 = {12,13,14,15,16}\n",
    "merged_set = set1.union(set2, set3)\n",
    "print(merged_set)"
   ]
  },
  {
   "cell_type": "code",
   "execution_count": null,
   "id": "606249d1-1526-4ed3-b12f-9f99b01d73a1",
   "metadata": {},
   "outputs": [],
   "source": []
  }
 ],
 "metadata": {
  "kernelspec": {
   "display_name": "Python 3 (ipykernel)",
   "language": "python",
   "name": "python3"
  },
  "language_info": {
   "codemirror_mode": {
    "name": "ipython",
    "version": 3
   },
   "file_extension": ".py",
   "mimetype": "text/x-python",
   "name": "python",
   "nbconvert_exporter": "python",
   "pygments_lexer": "ipython3",
   "version": "3.10.8"
  },
  "toc-autonumbering": true,
  "toc-showcode": true
 },
 "nbformat": 4,
 "nbformat_minor": 5
}
