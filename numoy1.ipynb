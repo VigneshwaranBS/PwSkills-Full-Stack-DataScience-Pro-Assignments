{
 "cells": [
  {
   "cell_type": "markdown",
   "metadata": {},
   "source": [
    "#### 1\n",
    "\n",
    "##### A Python library is a collection of functions and methods that allows users to perform various tasks without having to implement the functionality from scratch. We use Python libraries to save time and effort by leveraging pre-written code that provides solutions to common problems or tasks.\n"
   ]
  },
  {
   "cell_type": "markdown",
   "metadata": {},
   "source": [
    "#### 2\n",
    "\n",
    "##### The main differences between a NumPy array and a list are:\n",
    "\n",
    "NumPy arrays are homogeneous collections of elements with a fixed size, whereas lists can contain elements of different data types and sizes.\n",
    "NumPy arrays offer better performance for numerical operations compared to lists, especially for large datasets, due to optimized implementations of array operations.\n",
    "NumPy arrays support vectorized operations, allowing mathematical operations to be applied element-wise, while lists require iteration for similar operations.\n"
   ]
  },
  {
   "cell_type": "markdown",
   "metadata": {},
   "source": [
    "### 3\n",
    "\n",
    "##### The shape, size, and dimension of the given array are:\n",
    "\n",
    "Shape: (3, 4)\n",
    "Size: 12 (total number of elements)\n",
    "Dimension: 2 (2D array)\n"
   ]
  },
  {
   "cell_type": "code",
   "execution_count": 4,
   "metadata": {},
   "outputs": [
    {
     "name": "stdout",
     "output_type": "stream",
     "text": [
      "[1, 2, 3, 4]\n"
     ]
    }
   ],
   "source": [
    "# 4\n",
    "array = [[1, 2, 3, 4], [5, 6, 7, 8], [9, 10, 11, 12]]\n",
    "first_row = array[0]\n",
    "print(first_row)\n"
   ]
  },
  {
   "cell_type": "code",
   "execution_count": 5,
   "metadata": {},
   "outputs": [
    {
     "name": "stdout",
     "output_type": "stream",
     "text": [
      "12\n"
     ]
    }
   ],
   "source": [
    "# 5\n",
    "array = [[1, 2, 3, 4], [5, 6, 7, 8], [9, 10, 11, 12]]\n",
    "element = array[2][3]\n",
    "print(element)\n"
   ]
  },
  {
   "cell_type": "code",
   "execution_count": 7,
   "metadata": {},
   "outputs": [
    {
     "name": "stdout",
     "output_type": "stream",
     "text": [
      "[[ 2  4]\n",
      " [ 6  8]\n",
      " [10 12]]\n"
     ]
    }
   ],
   "source": [
    "# 6\n",
    "import numpy as np\n",
    "\n",
    "array = np.array([[1, 2, 3, 4], [5, 6, 7, 8], [9, 10, 11, 12]])\n",
    "odd_elements = array[:, 1::2]\n",
    "print(odd_elements)\n"
   ]
  },
  {
   "cell_type": "code",
   "execution_count": 8,
   "metadata": {},
   "outputs": [
    {
     "name": "stdout",
     "output_type": "stream",
     "text": [
      "[[0.40938021 0.34997166 0.16175949]\n",
      " [0.44251888 0.31206623 0.46690007]\n",
      " [0.11019222 0.08596811 0.07337593]]\n"
     ]
    }
   ],
   "source": [
    "# 7\n",
    "import numpy as np\n",
    "\n",
    "random_matrix = np.random.rand(3, 3)\n",
    "print(random_matrix)\n"
   ]
  },
  {
   "cell_type": "markdown",
   "metadata": {},
   "source": [
    "#### 8\n",
    "\n",
    "##### np.random.rand generates random numbers from a uniform distribution between 0 and 1, while np.random.randn generates random numbers from a standard normal distribution (mean 0 and standard deviation 1).\n"
   ]
  },
  {
   "cell_type": "code",
   "execution_count": 9,
   "metadata": {},
   "outputs": [
    {
     "name": "stdout",
     "output_type": "stream",
     "text": [
      "(1, 3, 4)\n"
     ]
    }
   ],
   "source": [
    "# 9\n",
    "array = np.array([[1, 2, 3, 4], [5, 6, 7, 8], [9, 10, 11, 12]])\n",
    "expanded_array = np.expand_dims(array, axis=0)\n",
    "print(expanded_array.shape)\n"
   ]
  },
  {
   "cell_type": "code",
   "execution_count": 10,
   "metadata": {},
   "outputs": [
    {
     "name": "stdout",
     "output_type": "stream",
     "text": [
      "[[ 1  5  9]\n",
      " [ 2  6 10]\n",
      " [ 3  7 11]\n",
      " [ 4  8 12]]\n"
     ]
    }
   ],
   "source": [
    "#10\n",
    "array = np.array([[1, 2, 3, 4], [5, 6, 7, 8], [9, 10, 11, 12]])\n",
    "transposed_array = np.transpose(array)\n",
    "print(transposed_array)\n"
   ]
  },
  {
   "cell_type": "code",
   "execution_count": 15,
   "metadata": {},
   "outputs": [
    {
     "name": "stdout",
     "output_type": "stream",
     "text": [
      "Index-wise multiplication:\n",
      " [[ 9 16 21]\n",
      " [24 25 24]\n",
      " [21 16  9]]\n",
      "Matrix multiplication:\n",
      " [[ 30  24  18]\n",
      " [ 84  69  54]\n",
      " [138 114  90]]\n",
      "Matrix addition:\n",
      " [[10 10 10]\n",
      " [10 10 10]\n",
      " [10 10 10]]\n",
      "Matrix subtraction:\n",
      " [[-8 -6 -4]\n",
      " [-2  0  2]\n",
      " [ 4  6  8]]\n",
      "Matrix division:\n",
      " [[9.         4.         2.33333333]\n",
      " [1.5        1.         0.66666667]\n",
      " [0.42857143 0.25       0.11111111]]\n"
     ]
    }
   ],
   "source": [
    "import numpy as np\n",
    "\n",
    "A = np.array([[1, 2, 3], [4, 5, 6], [7, 8, 9]])\n",
    "B = np.array([[9, 8, 7], [6, 5, 4], [3, 2, 1]])\n",
    "\n",
    "# Index-wise multiplication\n",
    "index_wise_mul = A * B\n",
    "\n",
    "# Matrix multiplication\n",
    "matrix_mul = np.matmul(A, B)\n",
    "\n",
    "# Add both matrices\n",
    "matrix_addition = A + B\n",
    "\n",
    "# Subtract matrix B from A\n",
    "matrix_subtraction = A - B\n",
    "\n",
    "# Divide matrix B by A\n",
    "matrix_division = B / A\n",
    "\n",
    "print(\"Index-wise multiplication:\\n\", index_wise_mul)\n",
    "print(\"Matrix multiplication:\\n\", matrix_mul)\n",
    "print(\"Matrix addition:\\n\", matrix_addition)\n",
    "print(\"Matrix subtraction:\\n\", matrix_subtraction)\n",
    "print(\"Matrix division:\\n\", matrix_division)\n"
   ]
  },
  {
   "cell_type": "markdown",
   "metadata": {},
   "source": [
    "### 12\n",
    "\n",
    "##### The function in NumPy used to swap the byte order of an array is np.ndarray.byteswap().\n"
   ]
  },
  {
   "cell_type": "markdown",
   "metadata": {},
   "source": [
    "#### 13\n",
    "\n",
    "##### The np.linalg.inv function is used to calculate the inverse of a square matrix. It is significant in linear algebra for solving systems of linear equations and other matrix operations.\n"
   ]
  },
  {
   "cell_type": "code",
   "execution_count": 14,
   "metadata": {},
   "outputs": [],
   "source": [
    "# 14 \n",
    "# reshaped_array = np.reshape(original_array, new_shape)\n",
    "\n"
   ]
  },
  {
   "cell_type": "markdown",
   "metadata": {},
   "source": [
    "#### 15\n",
    "\n",
    "##### Broadcasting in NumPy refers to the ability to perform arithmetic operations on arrays of different shapes. NumPy automatically broadcasts arrays to make them compatible for element-wise operations, allowing you to perform operations between arrays of different shapes without explicitly adding dimensions.\n"
   ]
  },
  {
   "cell_type": "code",
   "execution_count": null,
   "metadata": {},
   "outputs": [],
   "source": [
    "#### 1"
   ]
  }
 ],
 "metadata": {
  "kernelspec": {
   "display_name": "Python 3",
   "language": "python",
   "name": "python3"
  },
  "language_info": {
   "codemirror_mode": {
    "name": "ipython",
    "version": 3
   },
   "file_extension": ".py",
   "mimetype": "text/x-python",
   "name": "python",
   "nbconvert_exporter": "python",
   "pygments_lexer": "ipython3",
   "version": "3.12.1"
  }
 },
 "nbformat": 4,
 "nbformat_minor": 2
}
